{
  "nbformat": 4,
  "nbformat_minor": 0,
  "metadata": {
    "colab": {
      "name": "01_pytorch_workflow_exercises.ipynb",
      "provenance": [],
      "gpuType": "T4",
      "include_colab_link": true
    },
    "kernelspec": {
      "name": "python3",
      "display_name": "Python 3"
    },
    "language_info": {
      "name": "python"
    },
    "accelerator": "GPU"
  },
  "cells": [
    {
      "cell_type": "markdown",
      "metadata": {
        "id": "view-in-github",
        "colab_type": "text"
      },
      "source": [
        "<a href=\"https://colab.research.google.com/github/karthikkoding/pytorch_for_DL_ML/blob/main/extras/exercises/01_pytorch_workflow_exercises.ipynb\" target=\"_parent\"><img src=\"https://colab.research.google.com/assets/colab-badge.svg\" alt=\"Open In Colab\"/></a>"
      ]
    },
    {
      "cell_type": "markdown",
      "source": [
        "# 01. PyTorch Workflow Exercise Template\n",
        "\n",
        "The following is a template for the PyTorch workflow exercises.\n",
        "\n",
        "It's only starter code and it's your job to fill in the blanks.\n",
        "\n",
        "Because of the flexibility of PyTorch, there may be more than one way to answer the question.\n",
        "\n",
        "Don't worry about trying to be *right* just try writing code that suffices the question.\n",
        "\n",
        "You can see one form of [solutions on GitHub](https://github.com/mrdbourke/pytorch-deep-learning/tree/main/extras/solutions) (but try the exercises below yourself first!)."
      ],
      "metadata": {
        "id": "N8LsPXZti9Sw"
      }
    },
    {
      "cell_type": "code",
      "source": [
        "# Import necessary libraries\n",
        "import torch\n",
        "from torch import nn\n",
        "import numpy as np\n",
        "import matplotlib.pyplot as plt\n",
        "\n",
        "torch.__version__"
      ],
      "metadata": {
        "id": "Glu2fM4dkNlx",
        "colab": {
          "base_uri": "https://localhost:8080/",
          "height": 36
        },
        "outputId": "f9f31a80-6071-41d1-aa94-d06069248ef1"
      },
      "execution_count": 1,
      "outputs": [
        {
          "output_type": "execute_result",
          "data": {
            "text/plain": [
              "'2.2.1+cu121'"
            ],
            "application/vnd.google.colaboratory.intrinsic+json": {
              "type": "string"
            }
          },
          "metadata": {},
          "execution_count": 1
        }
      ]
    },
    {
      "cell_type": "code",
      "source": [
        "# Setup device-agnostic code\n",
        "device = \"cuda\" if torch.cuda.is_available() else \"cpu\"\n",
        "device"
      ],
      "metadata": {
        "id": "LqKhXY26m31s",
        "colab": {
          "base_uri": "https://localhost:8080/",
          "height": 36
        },
        "outputId": "125914f2-9a7e-4542-a19c-1a6f3023ca99"
      },
      "execution_count": 2,
      "outputs": [
        {
          "output_type": "execute_result",
          "data": {
            "text/plain": [
              "'cuda'"
            ],
            "application/vnd.google.colaboratory.intrinsic+json": {
              "type": "string"
            }
          },
          "metadata": {},
          "execution_count": 2
        }
      ]
    },
    {
      "cell_type": "markdown",
      "source": [
        "## 1. Create a straight line dataset using the linear regression formula (`weight * X + bias`).\n",
        "  * Set `weight=0.3` and `bias=0.9` there should be at least 100 datapoints total.\n",
        "  * Split the data into 80% training, 20% testing.\n",
        "  * Plot the training and testing data so it becomes visual.\n",
        "\n",
        "Your output of the below cell should look something like:\n",
        "```\n",
        "Number of X samples: 100\n",
        "Number of y samples: 100\n",
        "First 10 X & y samples:\n",
        "X: tensor([0.0000, 0.0100, 0.0200, 0.0300, 0.0400, 0.0500, 0.0600, 0.0700, 0.0800,\n",
        "        0.0900])\n",
        "y: tensor([0.9000, 0.9030, 0.9060, 0.9090, 0.9120, 0.9150, 0.9180, 0.9210, 0.9240,\n",
        "        0.9270])\n",
        "```\n",
        "\n",
        "Of course the numbers in `X` and `y` may be different but ideally they're created using the linear regression formula."
      ],
      "metadata": {
        "id": "g7HUhxCxjeBx"
      }
    },
    {
      "cell_type": "code",
      "source": [
        "\n",
        "X.shape"
      ],
      "metadata": {
        "colab": {
          "base_uri": "https://localhost:8080/"
        },
        "id": "Rt6sYPHif6u6",
        "outputId": "d4c93983-8228-4bce-9be0-23341d4d1449"
      },
      "execution_count": 6,
      "outputs": [
        {
          "output_type": "execute_result",
          "data": {
            "text/plain": [
              "torch.Size([100, 1])"
            ]
          },
          "metadata": {},
          "execution_count": 6
        }
      ]
    },
    {
      "cell_type": "code",
      "source": [
        "# Create the data parameters\n",
        "weight=0.3\n",
        "bias=0.9\n",
        "\n",
        "# Make X and y using linear regression feature\n",
        "X=torch.arange(1,101,1).unsqueeze(dim=1).type(torch.float)\n",
        "y= weight*X+bias\n",
        "y.type(torch.float)\n",
        "print(f\"Number of X samples: {len(X)}\")\n",
        "print(f\"Number of y samples: {len(y)}\")\n",
        "print(f\"First 10 X & y samples:\\nX: {X[:10]}\\ny: {y[:10]}\")"
      ],
      "metadata": {
        "id": "KbDG5MV7jhvE",
        "colab": {
          "base_uri": "https://localhost:8080/"
        },
        "outputId": "bf1b0eb1-4dd1-4a15-a4d1-1f535673c2bd"
      },
      "execution_count": 65,
      "outputs": [
        {
          "output_type": "stream",
          "name": "stdout",
          "text": [
            "Number of X samples: 100\n",
            "Number of y samples: 100\n",
            "First 10 X & y samples:\n",
            "X: tensor([[ 1.],\n",
            "        [ 2.],\n",
            "        [ 3.],\n",
            "        [ 4.],\n",
            "        [ 5.],\n",
            "        [ 6.],\n",
            "        [ 7.],\n",
            "        [ 8.],\n",
            "        [ 9.],\n",
            "        [10.]])\n",
            "y: tensor([[1.2000],\n",
            "        [1.5000],\n",
            "        [1.8000],\n",
            "        [2.1000],\n",
            "        [2.4000],\n",
            "        [2.7000],\n",
            "        [3.0000],\n",
            "        [3.3000],\n",
            "        [3.6000],\n",
            "        [3.9000]])\n"
          ]
        }
      ]
    },
    {
      "cell_type": "code",
      "source": [
        "X.dtype,y.dtype"
      ],
      "metadata": {
        "colab": {
          "base_uri": "https://localhost:8080/"
        },
        "id": "dOXUOj8Nohsa",
        "outputId": "46cc81bb-9c79-4412-d3ae-c9ee7c295902"
      },
      "execution_count": 66,
      "outputs": [
        {
          "output_type": "execute_result",
          "data": {
            "text/plain": [
              "(torch.float32, torch.float32)"
            ]
          },
          "metadata": {},
          "execution_count": 66
        }
      ]
    },
    {
      "cell_type": "code",
      "source": [
        "# Split the data into training and testing\n",
        "X_train=X[:80]\n",
        "X_test=X[80:]\n",
        "y_train=y[:80]\n",
        "y_test=y[80:]\n"
      ],
      "metadata": {
        "id": "GlwtT1djkmLw"
      },
      "execution_count": 67,
      "outputs": []
    },
    {
      "cell_type": "code",
      "source": [
        "# Plot the training and testing data\n",
        "def plot_predictions(train_data=X_train,\n",
        "                     train_labels=y_train,\n",
        "                     test_data=X_test,\n",
        "                     test_labels=y_test,\n",
        "                     predictions=None):\n",
        "  \"\"\"\n",
        "  Plots training data, test data and compares predictions.\n",
        "  \"\"\"\n",
        "  plt.figure(figsize=(10, 7))\n",
        "\n",
        "  # Plot training data in blue\n",
        "  plt.scatter(train_data, train_labels, c=\"b\", s=4, label=\"Training data\")\n",
        "\n",
        "  # Plot test data in green\n",
        "  plt.scatter(test_data, test_labels, c=\"g\", s=4, label=\"Testing data\")\n",
        "\n",
        "  if predictions is not None:\n",
        "    # Plot the predictions in red (predictions were made on the test data)\n",
        "    plt.scatter(test_data, predictions, c=\"r\", s=4, label=\"Predictions\")\n",
        "\n",
        "  # Show the legend\n",
        "  plt.legend(prop={\"size\": 14});\n",
        "\n",
        "plot_predictions()"
      ],
      "metadata": {
        "id": "29iQZFNhlYJ-",
        "colab": {
          "base_uri": "https://localhost:8080/",
          "height": 599
        },
        "outputId": "a2867f93-3c85-4f0d-8b02-249b56d8d5d5"
      },
      "execution_count": 68,
      "outputs": [
        {
          "output_type": "display_data",
          "data": {
            "text/plain": [
              "<Figure size 1000x700 with 1 Axes>"
            ],
            "image/png": "[encoded data removed]"
          },
          "metadata": {}
        }
      ]
    },
    {
      "cell_type": "markdown",
      "source": [
        "## 2. Build a PyTorch model by subclassing `nn.Module`.\n",
        "  * Inside should be a randomly initialized `nn.Parameter()` with `requires_grad=True`, one for `weights` and one for `bias`.\n",
        "  * Implement the `forward()` method to compute the linear regression function you used to create the dataset in 1.\n",
        "  * Once you've constructed the model, make an instance of it and check its `state_dict()`.\n",
        "  * **Note:** If you'd like to use `nn.Linear()` instead of `nn.Parameter()` you can."
      ],
      "metadata": {
        "id": "ImZoe3v8jif8"
      }
    },
    {
      "cell_type": "code",
      "source": [
        "# Create PyTorch linear regression model by subclassing nn.Module\n",
        "class LinearRegressionModelV1(nn.Module):\n",
        "  def __init__(self):\n",
        "    super().__init__()\n",
        "\n",
        "    self.weights=nn.Parameter(torch.rand(1,dtype=torch.float),requires_grad=True)\n",
        "    self.bias=nn.Parameter(torch.rand(1,dtype=torch.float),requires_grad=True)\n",
        "\n",
        "  def forward(self,x:torch.Tensor)->torch.Tensor:\n",
        "    return x*self.weights + self.bias\n",
        "\n",
        "\n",
        "class LinearRegressionModelV2(nn.Module):\n",
        "  def __init__(self):\n",
        "    super().__init__()\n",
        "    self.linear_layer=nn.Linear(in_features=1,out_features=1)\n",
        "\n",
        "  def forward(self,x:torch.Tensor)->torch.Tensor:\n",
        "    return self.linear_layer(x)"
      ],
      "metadata": {
        "id": "qzd__Y5rjtB8"
      },
      "execution_count": 69,
      "outputs": []
    },
    {
      "cell_type": "code",
      "source": [
        "# Instantiate the model and put it to the target device\n",
        "model_V1= LinearRegressionModelV1().to(device)\n",
        "model_V2= LinearRegressionModelV2().to(device)\n",
        "\n",
        "model_V1.state_dict(),model_V2.state_dict(),list(model_V1.parameters()),list(model_V2.parameters())"
      ],
      "metadata": {
        "id": "5LdcDnmOmyQ2",
        "colab": {
          "base_uri": "https://localhost:8080/"
        },
        "outputId": "6782a6f4-6806-4ffa-b17e-1ccdab25e3f3"
      },
      "execution_count": 70,
      "outputs": [
        {
          "output_type": "execute_result",
          "data": {
            "text/plain": [
              "(OrderedDict([('weights', tensor([0.9316], device='cuda:0')),\n",
              "              ('bias', tensor([0.6067], device='cuda:0'))]),\n",
              " OrderedDict([('linear_layer.weight', tensor([[-0.9119]], device='cuda:0')),\n",
              "              ('linear_layer.bias', tensor([-0.6236], device='cuda:0'))]),\n",
              " [Parameter containing:\n",
              "  tensor([0.9316], device='cuda:0', requires_grad=True),\n",
              "  Parameter containing:\n",
              "  tensor([0.6067], device='cuda:0', requires_grad=True)],\n",
              " [Parameter containing:\n",
              "  tensor([[-0.9119]], device='cuda:0', requires_grad=True),\n",
              "  Parameter containing:\n",
              "  tensor([-0.6236], device='cuda:0', requires_grad=True)])"
            ]
          },
          "metadata": {},
          "execution_count": 70
        }
      ]
    },
    {
      "cell_type": "code",
      "source": [
        "X_train.dtype"
      ],
      "metadata": {
        "colab": {
          "base_uri": "https://localhost:8080/"
        },
        "id": "JSyHfzlcoQxj",
        "outputId": "cd7574e2-cb4a-468f-ed38-da806f3ac039"
      },
      "execution_count": 71,
      "outputs": [
        {
          "output_type": "execute_result",
          "data": {
            "text/plain": [
              "torch.float32"
            ]
          },
          "metadata": {},
          "execution_count": 71
        }
      ]
    },
    {
      "cell_type": "markdown",
      "source": [
        "## 3. Create a loss function and optimizer using `nn.L1Loss()` and `torch.optim.SGD(params, lr)` respectively.\n",
        "  * Set the learning rate of the optimizer to be 0.01 and the parameters to optimize should be the model parameters from the model you created in 2.\n",
        "  * Write a training loop to perform the appropriate training steps for 300 epochs.\n",
        "  * The training loop should test the model on the test dataset every 20 epochs."
      ],
      "metadata": {
        "id": "G6nYOrJhjtfu"
      }
    },
    {
      "cell_type": "code",
      "source": [
        "# Create the loss function and optimizer\n",
        "loss_fn = nn.L1Loss()\n",
        "optimizer_V1 = torch.optim.SGD(params=model_V1.parameters(),lr=0.02)\n",
        "optimizer_V2 = torch.optim.SGD(params=model_V2.parameters(),lr=0.02)"
      ],
      "metadata": {
        "id": "ltvoZ-FWjv1j"
      },
      "execution_count": 72,
      "outputs": []
    },
    {
      "cell_type": "code",
      "source": [
        "# Training loop\n",
        "\n",
        "\n",
        "# Train model for 300 epochs\n",
        "epochs = 3000\n",
        "\n",
        "# Send data to target device\n",
        "X_train=X_train.to(device)\n",
        "X_test=X_test.to(device)\n",
        "y_train=y_train.to(device)\n",
        "y_test=y_test.to(device)\n",
        "\n",
        "for epoch in range(epochs):\n",
        "  ### Training\n",
        "\n",
        "  # Put model in train mode\n",
        "  model_V1.train()\n",
        "  model_V2.train()\n",
        "\n",
        "  # 1. Forward pass\n",
        "  y_preds_V1 = model_V1(X_train)\n",
        "  y_preds_V2 = model_V2(X_train)\n",
        "\n",
        "\n",
        "  # 2. Calculate loss\n",
        "  loss_V1 = loss_fn(y_preds_V1,y_train)\n",
        "  loss_V2 = loss_fn(y_preds_V2,y_train)\n",
        "\n",
        "  # 3. Zero gradients\n",
        "  optimizer_V1.zero_grad()\n",
        "  optimizer_V2.zero_grad()\n",
        "\n",
        "  # 4. Backpropagation\n",
        "  loss_V1.backward()\n",
        "  loss_V2.backward()\n",
        "\n",
        "  # 5. Step the optimizer\n",
        "  optimizer_V1.step()\n",
        "  optimizer_V2.step()\n",
        "\n",
        "  ### Perform testing every 20 epochs\n",
        "  if epoch % 20 == 0:\n",
        "\n",
        "    # Put model in evaluation mode and setup inference context\n",
        "    model_V1.eval()\n",
        "    model_V2.eval()\n",
        "\n",
        "    with torch.inference_mode():\n",
        "      # 1. Forward pass\n",
        "      y_preds_V1_test=model_V1(X_test)\n",
        "      y_preds_V2_test=model_V2(X_test)\n",
        "      # 2. Calculate test loss\n",
        "      loss_V1_test = loss_fn(y_preds_V1_test,y_test)\n",
        "      loss_V2_test = loss_fn(y_preds_V2_test,y_test)\n",
        "\n",
        "      # Print out what's happening\n",
        "      print(f\"Epoch: {epoch} | Train loss: {loss_V1:.3f} | Test loss: {loss_V1_test:.3f}\")\n",
        "      print(f\"Epoch: {epoch} | Train loss: {loss_V2:.3f} | Test loss: {loss_V2_test:.3f}\")"
      ],
      "metadata": {
        "id": "xpE83NvNnkdV",
        "colab": {
          "base_uri": "https://localhost:8080/"
        },
        "outputId": "c7e7dba6-7233-4cf1-fe1c-02f694bdd53d"
      },
      "execution_count": 82,
      "outputs": [
        {
          "output_type": "stream",
          "name": "stdout",
          "text": [
            "Epoch: 0 | Train loss: 25.284 | Test loss: 16.463\n",
            "Epoch: 0 | Train loss: 25.629 | Test loss: 14.411\n",
            "Epoch: 20 | Train loss: 25.284 | Test loss: 16.463\n",
            "Epoch: 20 | Train loss: 25.836 | Test loss: 13.954\n",
            "Epoch: 40 | Train loss: 25.284 | Test loss: 16.463\n",
            "Epoch: 40 | Train loss: 26.044 | Test loss: 13.496\n",
            "Epoch: 60 | Train loss: 25.284 | Test loss: 16.463\n",
            "Epoch: 60 | Train loss: 26.251 | Test loss: 13.039\n",
            "Epoch: 80 | Train loss: 25.284 | Test loss: 16.463\n",
            "Epoch: 80 | Train loss: 26.458 | Test loss: 12.581\n",
            "Epoch: 100 | Train loss: 25.284 | Test loss: 16.463\n",
            "Epoch: 100 | Train loss: 26.666 | Test loss: 12.124\n",
            "Epoch: 120 | Train loss: 25.284 | Test loss: 16.463\n",
            "Epoch: 120 | Train loss: 26.873 | Test loss: 11.666\n",
            "Epoch: 140 | Train loss: 25.284 | Test loss: 16.463\n",
            "Epoch: 140 | Train loss: 27.080 | Test loss: 11.209\n",
            "Epoch: 160 | Train loss: 25.284 | Test loss: 16.463\n",
            "Epoch: 160 | Train loss: 27.287 | Test loss: 10.751\n",
            "Epoch: 180 | Train loss: 25.284 | Test loss: 16.463\n",
            "Epoch: 180 | Train loss: 27.495 | Test loss: 10.293\n",
            "Epoch: 200 | Train loss: 25.284 | Test loss: 16.463\n",
            "Epoch: 200 | Train loss: 27.702 | Test loss: 9.836\n",
            "Epoch: 220 | Train loss: 25.284 | Test loss: 16.463\n",
            "Epoch: 220 | Train loss: 27.909 | Test loss: 9.378\n",
            "Epoch: 240 | Train loss: 25.284 | Test loss: 16.463\n",
            "Epoch: 240 | Train loss: 28.116 | Test loss: 8.921\n",
            "Epoch: 260 | Train loss: 25.284 | Test loss: 16.463\n",
            "Epoch: 260 | Train loss: 28.324 | Test loss: 8.463\n",
            "Epoch: 280 | Train loss: 25.284 | Test loss: 16.463\n",
            "Epoch: 280 | Train loss: 28.531 | Test loss: 8.005\n",
            "Epoch: 300 | Train loss: 25.284 | Test loss: 16.463\n",
            "Epoch: 300 | Train loss: 28.738 | Test loss: 7.548\n",
            "Epoch: 320 | Train loss: 25.284 | Test loss: 16.463\n",
            "Epoch: 320 | Train loss: 28.946 | Test loss: 7.090\n",
            "Epoch: 340 | Train loss: 25.284 | Test loss: 16.463\n",
            "Epoch: 340 | Train loss: 29.153 | Test loss: 6.633\n",
            "Epoch: 360 | Train loss: 25.284 | Test loss: 16.463\n",
            "Epoch: 360 | Train loss: 29.360 | Test loss: 6.175\n",
            "Epoch: 380 | Train loss: 25.284 | Test loss: 16.463\n",
            "Epoch: 380 | Train loss: 29.567 | Test loss: 5.718\n",
            "Epoch: 400 | Train loss: 25.284 | Test loss: 16.463\n",
            "Epoch: 400 | Train loss: 29.775 | Test loss: 5.260\n",
            "Epoch: 420 | Train loss: 25.284 | Test loss: 16.463\n",
            "Epoch: 420 | Train loss: 29.982 | Test loss: 4.802\n",
            "Epoch: 440 | Train loss: 25.284 | Test loss: 16.463\n",
            "Epoch: 440 | Train loss: 30.189 | Test loss: 4.345\n",
            "Epoch: 460 | Train loss: 25.284 | Test loss: 16.463\n",
            "Epoch: 460 | Train loss: 30.397 | Test loss: 3.887\n",
            "Epoch: 480 | Train loss: 25.284 | Test loss: 16.463\n",
            "Epoch: 480 | Train loss: 30.604 | Test loss: 3.430\n",
            "Epoch: 500 | Train loss: 25.284 | Test loss: 16.463\n",
            "Epoch: 500 | Train loss: 30.811 | Test loss: 2.972\n",
            "Epoch: 520 | Train loss: 25.284 | Test loss: 16.463\n",
            "Epoch: 520 | Train loss: 31.018 | Test loss: 2.515\n",
            "Epoch: 540 | Train loss: 25.284 | Test loss: 16.463\n",
            "Epoch: 540 | Train loss: 31.226 | Test loss: 2.057\n",
            "Epoch: 560 | Train loss: 25.284 | Test loss: 16.463\n",
            "Epoch: 560 | Train loss: 31.433 | Test loss: 1.599\n",
            "Epoch: 580 | Train loss: 25.284 | Test loss: 16.463\n",
            "Epoch: 580 | Train loss: 31.640 | Test loss: 1.142\n",
            "Epoch: 600 | Train loss: 25.284 | Test loss: 16.463\n",
            "Epoch: 600 | Train loss: 31.848 | Test loss: 0.684\n",
            "Epoch: 620 | Train loss: 25.284 | Test loss: 16.463\n",
            "Epoch: 620 | Train loss: 32.055 | Test loss: 0.227\n",
            "Epoch: 640 | Train loss: 25.284 | Test loss: 16.463\n",
            "Epoch: 640 | Train loss: 29.043 | Test loss: 6.965\n",
            "Epoch: 660 | Train loss: 25.284 | Test loss: 16.463\n",
            "Epoch: 660 | Train loss: 29.251 | Test loss: 6.507\n",
            "Epoch: 680 | Train loss: 25.284 | Test loss: 16.463\n",
            "Epoch: 680 | Train loss: 29.458 | Test loss: 6.050\n",
            "Epoch: 700 | Train loss: 25.284 | Test loss: 16.463\n",
            "Epoch: 700 | Train loss: 29.665 | Test loss: 5.592\n",
            "Epoch: 720 | Train loss: 25.284 | Test loss: 16.463\n",
            "Epoch: 720 | Train loss: 29.873 | Test loss: 5.135\n",
            "Epoch: 740 | Train loss: 25.284 | Test loss: 16.463\n",
            "Epoch: 740 | Train loss: 30.080 | Test loss: 4.677\n",
            "Epoch: 760 | Train loss: 25.284 | Test loss: 16.463\n",
            "Epoch: 760 | Train loss: 30.287 | Test loss: 4.219\n",
            "Epoch: 780 | Train loss: 25.284 | Test loss: 16.463\n",
            "Epoch: 780 | Train loss: 30.494 | Test loss: 3.762\n",
            "Epoch: 800 | Train loss: 25.284 | Test loss: 16.463\n",
            "Epoch: 800 | Train loss: 30.702 | Test loss: 3.304\n",
            "Epoch: 820 | Train loss: 25.284 | Test loss: 16.463\n",
            "Epoch: 820 | Train loss: 30.909 | Test loss: 2.847\n",
            "Epoch: 840 | Train loss: 25.284 | Test loss: 16.463\n",
            "Epoch: 840 | Train loss: 31.116 | Test loss: 2.389\n",
            "Epoch: 860 | Train loss: 25.284 | Test loss: 16.463\n",
            "Epoch: 860 | Train loss: 31.324 | Test loss: 1.932\n",
            "Epoch: 880 | Train loss: 25.284 | Test loss: 16.463\n",
            "Epoch: 880 | Train loss: 31.531 | Test loss: 1.474\n",
            "Epoch: 900 | Train loss: 25.284 | Test loss: 16.463\n",
            "Epoch: 900 | Train loss: 31.738 | Test loss: 1.016\n",
            "Epoch: 920 | Train loss: 25.284 | Test loss: 16.463\n",
            "Epoch: 920 | Train loss: 31.945 | Test loss: 0.559\n",
            "Epoch: 940 | Train loss: 25.284 | Test loss: 16.463\n",
            "Epoch: 940 | Train loss: 32.153 | Test loss: 0.102\n",
            "Epoch: 960 | Train loss: 25.284 | Test loss: 16.463\n",
            "Epoch: 960 | Train loss: 29.141 | Test loss: 6.839\n",
            "Epoch: 980 | Train loss: 25.284 | Test loss: 16.463\n",
            "Epoch: 980 | Train loss: 29.348 | Test loss: 6.382\n",
            "Epoch: 1000 | Train loss: 25.284 | Test loss: 16.463\n",
            "Epoch: 1000 | Train loss: 29.556 | Test loss: 5.924\n",
            "Epoch: 1020 | Train loss: 25.284 | Test loss: 16.463\n",
            "Epoch: 1020 | Train loss: 29.763 | Test loss: 5.467\n",
            "Epoch: 1040 | Train loss: 25.284 | Test loss: 16.463\n",
            "Epoch: 1040 | Train loss: 29.970 | Test loss: 5.009\n",
            "Epoch: 1060 | Train loss: 25.284 | Test loss: 16.463\n",
            "Epoch: 1060 | Train loss: 30.178 | Test loss: 4.552\n",
            "Epoch: 1080 | Train loss: 25.284 | Test loss: 16.463\n",
            "Epoch: 1080 | Train loss: 30.385 | Test loss: 4.094\n",
            "Epoch: 1100 | Train loss: 25.284 | Test loss: 16.463\n",
            "Epoch: 1100 | Train loss: 30.592 | Test loss: 3.636\n",
            "Epoch: 1120 | Train loss: 25.284 | Test loss: 16.463\n",
            "Epoch: 1120 | Train loss: 30.799 | Test loss: 3.179\n",
            "Epoch: 1140 | Train loss: 25.284 | Test loss: 16.463\n",
            "Epoch: 1140 | Train loss: 31.007 | Test loss: 2.721\n",
            "Epoch: 1160 | Train loss: 25.284 | Test loss: 16.463\n",
            "Epoch: 1160 | Train loss: 31.214 | Test loss: 2.264\n",
            "Epoch: 1180 | Train loss: 25.284 | Test loss: 16.463\n",
            "Epoch: 1180 | Train loss: 31.421 | Test loss: 1.806\n",
            "Epoch: 1200 | Train loss: 25.284 | Test loss: 16.463\n",
            "Epoch: 1200 | Train loss: 31.629 | Test loss: 1.349\n",
            "Epoch: 1220 | Train loss: 25.284 | Test loss: 16.463\n",
            "Epoch: 1220 | Train loss: 31.836 | Test loss: 0.891\n",
            "Epoch: 1240 | Train loss: 25.284 | Test loss: 16.463\n",
            "Epoch: 1240 | Train loss: 32.043 | Test loss: 0.433\n",
            "Epoch: 1260 | Train loss: 25.284 | Test loss: 16.463\n",
            "Epoch: 1260 | Train loss: 32.250 | Test loss: 0.061\n",
            "Epoch: 1280 | Train loss: 25.284 | Test loss: 16.463\n",
            "Epoch: 1280 | Train loss: 29.239 | Test loss: 6.714\n",
            "Epoch: 1300 | Train loss: 25.284 | Test loss: 16.463\n",
            "Epoch: 1300 | Train loss: 29.446 | Test loss: 6.256\n",
            "Epoch: 1320 | Train loss: 25.284 | Test loss: 16.463\n",
            "Epoch: 1320 | Train loss: 29.654 | Test loss: 5.799\n",
            "Epoch: 1340 | Train loss: 25.284 | Test loss: 16.463\n",
            "Epoch: 1340 | Train loss: 29.861 | Test loss: 5.341\n",
            "Epoch: 1360 | Train loss: 25.284 | Test loss: 16.463\n",
            "Epoch: 1360 | Train loss: 30.068 | Test loss: 4.884\n",
            "Epoch: 1380 | Train loss: 25.284 | Test loss: 16.463\n",
            "Epoch: 1380 | Train loss: 30.275 | Test loss: 4.426\n",
            "Epoch: 1400 | Train loss: 25.284 | Test loss: 16.463\n",
            "Epoch: 1400 | Train loss: 30.483 | Test loss: 3.969\n",
            "Epoch: 1420 | Train loss: 25.284 | Test loss: 16.463\n",
            "Epoch: 1420 | Train loss: 30.690 | Test loss: 3.511\n",
            "Epoch: 1440 | Train loss: 25.284 | Test loss: 16.463\n",
            "Epoch: 1440 | Train loss: 30.897 | Test loss: 3.053\n",
            "Epoch: 1460 | Train loss: 25.284 | Test loss: 16.463\n",
            "Epoch: 1460 | Train loss: 31.105 | Test loss: 2.596\n",
            "Epoch: 1480 | Train loss: 25.284 | Test loss: 16.463\n",
            "Epoch: 1480 | Train loss: 31.312 | Test loss: 2.138\n",
            "Epoch: 1500 | Train loss: 25.284 | Test loss: 16.463\n",
            "Epoch: 1500 | Train loss: 31.519 | Test loss: 1.681\n",
            "Epoch: 1520 | Train loss: 25.284 | Test loss: 16.463\n",
            "Epoch: 1520 | Train loss: 31.726 | Test loss: 1.223\n",
            "Epoch: 1540 | Train loss: 25.284 | Test loss: 16.463\n",
            "Epoch: 1540 | Train loss: 31.934 | Test loss: 0.765\n",
            "Epoch: 1560 | Train loss: 25.284 | Test loss: 16.463\n",
            "Epoch: 1560 | Train loss: 32.141 | Test loss: 0.308\n",
            "Epoch: 1580 | Train loss: 25.284 | Test loss: 16.463\n",
            "Epoch: 1580 | Train loss: 32.348 | Test loss: 0.150\n",
            "Epoch: 1600 | Train loss: 25.284 | Test loss: 16.463\n",
            "Epoch: 1600 | Train loss: 29.337 | Test loss: 6.589\n",
            "Epoch: 1620 | Train loss: 25.284 | Test loss: 16.463\n",
            "Epoch: 1620 | Train loss: 29.544 | Test loss: 6.131\n",
            "Epoch: 1640 | Train loss: 25.284 | Test loss: 16.463\n",
            "Epoch: 1640 | Train loss: 29.751 | Test loss: 5.673\n",
            "Epoch: 1660 | Train loss: 25.284 | Test loss: 16.463\n",
            "Epoch: 1660 | Train loss: 29.959 | Test loss: 5.216\n",
            "Epoch: 1680 | Train loss: 25.284 | Test loss: 16.463\n",
            "Epoch: 1680 | Train loss: 30.166 | Test loss: 4.758\n",
            "Epoch: 1700 | Train loss: 25.284 | Test loss: 16.463\n",
            "Epoch: 1700 | Train loss: 30.373 | Test loss: 4.301\n",
            "Epoch: 1720 | Train loss: 25.284 | Test loss: 16.463\n",
            "Epoch: 1720 | Train loss: 30.581 | Test loss: 3.843\n",
            "Epoch: 1740 | Train loss: 25.284 | Test loss: 16.463\n",
            "Epoch: 1740 | Train loss: 30.788 | Test loss: 3.385\n",
            "Epoch: 1760 | Train loss: 25.284 | Test loss: 16.463\n",
            "Epoch: 1760 | Train loss: 30.995 | Test loss: 2.928\n",
            "Epoch: 1780 | Train loss: 25.284 | Test loss: 16.463\n",
            "Epoch: 1780 | Train loss: 31.202 | Test loss: 2.470\n",
            "Epoch: 1800 | Train loss: 25.284 | Test loss: 16.463\n",
            "Epoch: 1800 | Train loss: 31.410 | Test loss: 2.013\n",
            "Epoch: 1820 | Train loss: 25.284 | Test loss: 16.463\n",
            "Epoch: 1820 | Train loss: 31.617 | Test loss: 1.555\n",
            "Epoch: 1840 | Train loss: 25.284 | Test loss: 16.463\n",
            "Epoch: 1840 | Train loss: 31.824 | Test loss: 1.098\n",
            "Epoch: 1860 | Train loss: 25.284 | Test loss: 16.463\n",
            "Epoch: 1860 | Train loss: 32.031 | Test loss: 0.640\n",
            "Epoch: 1880 | Train loss: 25.284 | Test loss: 16.463\n",
            "Epoch: 1880 | Train loss: 32.239 | Test loss: 0.182\n",
            "Epoch: 1900 | Train loss: 25.284 | Test loss: 16.463\n",
            "Epoch: 1900 | Train loss: 29.227 | Test loss: 6.921\n",
            "Epoch: 1920 | Train loss: 25.284 | Test loss: 16.463\n",
            "Epoch: 1920 | Train loss: 29.435 | Test loss: 6.463\n",
            "Epoch: 1940 | Train loss: 25.284 | Test loss: 16.463\n",
            "Epoch: 1940 | Train loss: 29.642 | Test loss: 6.005\n",
            "Epoch: 1960 | Train loss: 25.284 | Test loss: 16.463\n",
            "Epoch: 1960 | Train loss: 29.849 | Test loss: 5.548\n",
            "Epoch: 1980 | Train loss: 25.284 | Test loss: 16.463\n",
            "Epoch: 1980 | Train loss: 30.056 | Test loss: 5.090\n",
            "Epoch: 2000 | Train loss: 25.284 | Test loss: 16.463\n",
            "Epoch: 2000 | Train loss: 30.264 | Test loss: 4.633\n",
            "Epoch: 2020 | Train loss: 25.284 | Test loss: 16.463\n",
            "Epoch: 2020 | Train loss: 30.471 | Test loss: 4.175\n",
            "Epoch: 2040 | Train loss: 25.284 | Test loss: 16.463\n",
            "Epoch: 2040 | Train loss: 30.678 | Test loss: 3.718\n",
            "Epoch: 2060 | Train loss: 25.284 | Test loss: 16.463\n",
            "Epoch: 2060 | Train loss: 30.886 | Test loss: 3.260\n",
            "Epoch: 2080 | Train loss: 25.284 | Test loss: 16.463\n",
            "Epoch: 2080 | Train loss: 31.093 | Test loss: 2.802\n",
            "Epoch: 2100 | Train loss: 25.284 | Test loss: 16.463\n",
            "Epoch: 2100 | Train loss: 31.300 | Test loss: 2.345\n",
            "Epoch: 2120 | Train loss: 25.284 | Test loss: 16.463\n",
            "Epoch: 2120 | Train loss: 31.507 | Test loss: 1.887\n",
            "Epoch: 2140 | Train loss: 25.284 | Test loss: 16.463\n",
            "Epoch: 2140 | Train loss: 31.549 | Test loss: 1.842\n",
            "Epoch: 2160 | Train loss: 25.284 | Test loss: 16.463\n",
            "Epoch: 2160 | Train loss: 31.549 | Test loss: 1.842\n",
            "Epoch: 2180 | Train loss: 25.284 | Test loss: 16.463\n",
            "Epoch: 2180 | Train loss: 31.549 | Test loss: 1.842\n",
            "Epoch: 2200 | Train loss: 25.284 | Test loss: 16.463\n",
            "Epoch: 2200 | Train loss: 31.549 | Test loss: 1.842\n",
            "Epoch: 2220 | Train loss: 25.284 | Test loss: 16.463\n",
            "Epoch: 2220 | Train loss: 31.549 | Test loss: 1.842\n",
            "Epoch: 2240 | Train loss: 25.284 | Test loss: 16.463\n",
            "Epoch: 2240 | Train loss: 31.549 | Test loss: 1.842\n",
            "Epoch: 2260 | Train loss: 25.284 | Test loss: 16.463\n",
            "Epoch: 2260 | Train loss: 31.549 | Test loss: 1.842\n",
            "Epoch: 2280 | Train loss: 25.284 | Test loss: 16.463\n",
            "Epoch: 2280 | Train loss: 31.549 | Test loss: 1.842\n",
            "Epoch: 2300 | Train loss: 25.284 | Test loss: 16.463\n",
            "Epoch: 2300 | Train loss: 31.549 | Test loss: 1.842\n",
            "Epoch: 2320 | Train loss: 25.284 | Test loss: 16.463\n",
            "Epoch: 2320 | Train loss: 31.549 | Test loss: 1.842\n",
            "Epoch: 2340 | Train loss: 25.284 | Test loss: 16.463\n",
            "Epoch: 2340 | Train loss: 31.549 | Test loss: 1.842\n",
            "Epoch: 2360 | Train loss: 25.284 | Test loss: 16.463\n",
            "Epoch: 2360 | Train loss: 31.549 | Test loss: 1.842\n",
            "Epoch: 2380 | Train loss: 25.284 | Test loss: 16.463\n",
            "Epoch: 2380 | Train loss: 31.549 | Test loss: 1.842\n",
            "Epoch: 2400 | Train loss: 25.284 | Test loss: 16.463\n",
            "Epoch: 2400 | Train loss: 31.549 | Test loss: 1.842\n",
            "Epoch: 2420 | Train loss: 25.284 | Test loss: 16.463\n",
            "Epoch: 2420 | Train loss: 31.549 | Test loss: 1.842\n",
            "Epoch: 2440 | Train loss: 25.284 | Test loss: 16.463\n",
            "Epoch: 2440 | Train loss: 31.549 | Test loss: 1.842\n",
            "Epoch: 2460 | Train loss: 25.284 | Test loss: 16.463\n",
            "Epoch: 2460 | Train loss: 31.549 | Test loss: 1.842\n",
            "Epoch: 2480 | Train loss: 25.284 | Test loss: 16.463\n",
            "Epoch: 2480 | Train loss: 31.549 | Test loss: 1.842\n",
            "Epoch: 2500 | Train loss: 25.284 | Test loss: 16.463\n",
            "Epoch: 2500 | Train loss: 31.549 | Test loss: 1.842\n",
            "Epoch: 2520 | Train loss: 25.284 | Test loss: 16.463\n",
            "Epoch: 2520 | Train loss: 31.549 | Test loss: 1.842\n",
            "Epoch: 2540 | Train loss: 25.284 | Test loss: 16.463\n",
            "Epoch: 2540 | Train loss: 31.549 | Test loss: 1.842\n",
            "Epoch: 2560 | Train loss: 25.284 | Test loss: 16.463\n",
            "Epoch: 2560 | Train loss: 31.549 | Test loss: 1.842\n",
            "Epoch: 2580 | Train loss: 25.284 | Test loss: 16.463\n",
            "Epoch: 2580 | Train loss: 31.549 | Test loss: 1.842\n",
            "Epoch: 2600 | Train loss: 25.284 | Test loss: 16.463\n",
            "Epoch: 2600 | Train loss: 31.549 | Test loss: 1.842\n",
            "Epoch: 2620 | Train loss: 25.284 | Test loss: 16.463\n",
            "Epoch: 2620 | Train loss: 31.549 | Test loss: 1.842\n",
            "Epoch: 2640 | Train loss: 25.284 | Test loss: 16.463\n",
            "Epoch: 2640 | Train loss: 31.549 | Test loss: 1.842\n",
            "Epoch: 2660 | Train loss: 25.284 | Test loss: 16.463\n",
            "Epoch: 2660 | Train loss: 31.549 | Test loss: 1.842\n",
            "Epoch: 2680 | Train loss: 25.284 | Test loss: 16.463\n",
            "Epoch: 2680 | Train loss: 31.549 | Test loss: 1.842\n",
            "Epoch: 2700 | Train loss: 25.284 | Test loss: 16.463\n",
            "Epoch: 2700 | Train loss: 31.549 | Test loss: 1.842\n",
            "Epoch: 2720 | Train loss: 25.284 | Test loss: 16.463\n",
            "Epoch: 2720 | Train loss: 31.549 | Test loss: 1.842\n",
            "Epoch: 2740 | Train loss: 25.284 | Test loss: 16.463\n",
            "Epoch: 2740 | Train loss: 31.549 | Test loss: 1.842\n",
            "Epoch: 2760 | Train loss: 25.284 | Test loss: 16.463\n",
            "Epoch: 2760 | Train loss: 31.549 | Test loss: 1.842\n",
            "Epoch: 2780 | Train loss: 25.284 | Test loss: 16.463\n",
            "Epoch: 2780 | Train loss: 31.549 | Test loss: 1.842\n",
            "Epoch: 2800 | Train loss: 25.284 | Test loss: 16.463\n",
            "Epoch: 2800 | Train loss: 31.549 | Test loss: 1.842\n",
            "Epoch: 2820 | Train loss: 25.284 | Test loss: 16.463\n",
            "Epoch: 2820 | Train loss: 31.549 | Test loss: 1.842\n",
            "Epoch: 2840 | Train loss: 25.284 | Test loss: 16.463\n",
            "Epoch: 2840 | Train loss: 31.549 | Test loss: 1.842\n",
            "Epoch: 2860 | Train loss: 25.284 | Test loss: 16.463\n",
            "Epoch: 2860 | Train loss: 31.549 | Test loss: 1.842\n",
            "Epoch: 2880 | Train loss: 25.284 | Test loss: 16.463\n",
            "Epoch: 2880 | Train loss: 31.549 | Test loss: 1.842\n",
            "Epoch: 2900 | Train loss: 25.284 | Test loss: 16.463\n",
            "Epoch: 2900 | Train loss: 31.549 | Test loss: 1.842\n",
            "Epoch: 2920 | Train loss: 25.284 | Test loss: 16.463\n",
            "Epoch: 2920 | Train loss: 31.549 | Test loss: 1.842\n",
            "Epoch: 2940 | Train loss: 25.284 | Test loss: 16.463\n",
            "Epoch: 2940 | Train loss: 31.549 | Test loss: 1.842\n",
            "Epoch: 2960 | Train loss: 25.284 | Test loss: 16.463\n",
            "Epoch: 2960 | Train loss: 31.549 | Test loss: 1.842\n",
            "Epoch: 2980 | Train loss: 25.284 | Test loss: 16.463\n",
            "Epoch: 2980 | Train loss: 31.549 | Test loss: 1.842\n"
          ]
        }
      ]
    },
    {
      "cell_type": "markdown",
      "source": [
        "## 4. Make predictions with the trained model on the test data.\n",
        "  * Visualize these predictions against the original training and testing data (**note:** you may need to make sure the predictions are *not* on the GPU if you want to use non-CUDA-enabled libraries such as matplotlib to plot)."
      ],
      "metadata": {
        "id": "x4j4TM18jwa7"
      }
    },
    {
      "cell_type": "code",
      "source": [
        "# Make predictions with the model\n",
        "\n",
        "model_V1.eval()\n",
        "model_V2.eval()\n",
        "\n",
        "# Make predictions on the test data\n",
        "with torch.inference_mode():\n",
        "    y_preds_V1_plot = model_V1(X_test)\n",
        "    y_preds_V2_plot = model_V2(X_test)\n",
        "y_preds_V1_plot,y_preds_V2_plot"
      ],
      "metadata": {
        "id": "bbMPK5Qjjyx_",
        "colab": {
          "base_uri": "https://localhost:8080/"
        },
        "outputId": "b7f05a6b-7b37-4e7f-fc24-42d6fa6852ad"
      },
      "execution_count": 83,
      "outputs": [
        {
          "output_type": "execute_result",
          "data": {
            "text/plain": [
              "(tensor([[76.0623],\n",
              "         [76.9938],\n",
              "         [77.9254],\n",
              "         [78.8569],\n",
              "         [79.7885],\n",
              "         [80.7200],\n",
              "         [81.6516],\n",
              "         [82.5831],\n",
              "         [83.5147],\n",
              "         [84.4462],\n",
              "         [85.3778],\n",
              "         [86.3093],\n",
              "         [87.2409],\n",
              "         [88.1724],\n",
              "         [89.1040],\n",
              "         [90.0355],\n",
              "         [90.9671],\n",
              "         [91.8986],\n",
              "         [92.8302],\n",
              "         [93.7617]], device='cuda:0'),\n",
              " tensor([[ 89.0959],\n",
              "         [ 90.1946],\n",
              "         [ 91.2933],\n",
              "         [ 92.3920],\n",
              "         [ 93.4907],\n",
              "         [ 94.5894],\n",
              "         [ 95.6880],\n",
              "         [ 96.7867],\n",
              "         [ 97.8854],\n",
              "         [ 98.9841],\n",
              "         [100.0828],\n",
              "         [101.1815],\n",
              "         [102.2802],\n",
              "         [103.3789],\n",
              "         [104.4776],\n",
              "         [105.5763],\n",
              "         [106.6749],\n",
              "         [107.7736],\n",
              "         [108.8723],\n",
              "         [109.9710]], device='cuda:0'))"
            ]
          },
          "metadata": {},
          "execution_count": 83
        }
      ]
    },
    {
      "cell_type": "code",
      "source": [],
      "metadata": {
        "colab": {
          "base_uri": "https://localhost:8080/"
        },
        "id": "QEX4iCFEq5tK",
        "outputId": "5e115c05-b5c4-44ed-90ff-3d0527e62375"
      },
      "execution_count": 76,
      "outputs": [
        {
          "output_type": "execute_result",
          "data": {
            "text/plain": [
              "torch.float32"
            ]
          },
          "metadata": {},
          "execution_count": 76
        }
      ]
    },
    {
      "cell_type": "code",
      "source": [
        "# Plot the predictions (these may need to be on a specific device)\n",
        "plot_predictions(predictions=y_preds_V1_plot.cpu())"
      ],
      "metadata": {
        "id": "K3BdmQaDpFo8",
        "colab": {
          "base_uri": "https://localhost:8080/",
          "height": 599
        },
        "outputId": "2ab9b3b0-a8dc-43a1-eb2f-3e0bf83c3597"
      },
      "execution_count": 84,
      "outputs": [
        {
          "output_type": "display_data",
          "data": {
            "text/plain": [
              "<Figure size 1000x700 with 1 Axes>"
            ],
            "image/png": "[encoded data removed]"
          },
          "metadata": {}
        }
      ]
    },
    {
      "cell_type": "code",
      "source": [
        "plot_predictions(predictions=y_preds_V2_plot.cpu())"
      ],
      "metadata": {
        "colab": {
          "base_uri": "https://localhost:8080/",
          "height": 599
        },
        "id": "5TpxxUT-qcr3",
        "outputId": "5d3210eb-9c68-48fd-d243-0fb097f1f712"
      },
      "execution_count": 85,
      "outputs": [
        {
          "output_type": "display_data",
          "data": {
            "text/plain": [
              "<Figure size 1000x700 with 1 Axes>"
            ],
            "image/png": "[encoded data removed]"
          },
          "metadata": {}
        }
      ]
    },
    {
      "cell_type": "markdown",
      "source": [
        "## 5. Save your trained model's `state_dict()` to file.\n",
        "  * Create a new instance of your model class you made in 2. and load in the `state_dict()` you just saved to it.\n",
        "  * Perform predictions on your test data with the loaded model and confirm they match the original model predictions from 4."
      ],
      "metadata": {
        "id": "s2OnlMWKjzX8"
      }
    },
    {
      "cell_type": "code",
      "source": [
        "from pathlib import Path\n",
        "\n",
        "# 1. Create models directory\n",
        "MODEL_PATH = Path(\"models\")\n",
        "MODEL_PATH.mkdir(parents=True, exist_ok=True)\n",
        "\n",
        "# 2. Create model save path\n",
        "MODEL_NAME_V1 = \"01_pytorch_workflow_model_V1_exercise.pth\"\n",
        "MODEL_NAME_V2 = \"01_pytorch_workflow_model_V2_exercise.pth\"\n",
        "MODEL_SAVE_PATH_V1 = MODEL_PATH / MODEL_NAME_V1\n",
        "MODEL_SAVE_PATH_V2 = MODEL_PATH / MODEL_NAME_V2\n",
        "\n",
        "# 3. Save the model state dict\n",
        "torch.save(obj=model_V1.state_dict(),f=MODEL_SAVE_PATH_V1)\n",
        "torch.save(obj=model_V2.state_dict(),f=MODEL_SAVE_PATH_V2)"
      ],
      "metadata": {
        "id": "hgxhgD14qr-i"
      },
      "execution_count": 91,
      "outputs": []
    },
    {
      "cell_type": "code",
      "source": [
        "# Create new instance of model and load saved state dict (make sure to put it on the target device)\n",
        "loaded_model_V1 = LinearRegressionModelV1()\n",
        "loaded_model_V2 = LinearRegressionModelV2()\n",
        "\n",
        "loaded_model_V1.load_state_dict(torch.load(MODEL_SAVE_PATH_V1))\n",
        "loaded_model_V2.load_state_dict(torch.load(MODEL_SAVE_PATH_V2))\n",
        "\n",
        "# Put model to target device (if your data is on GPU, model will have to be on GPU to make predictions)\n",
        "loaded_model_V1.to(device)\n",
        "loaded_model_V2.to(device)"
      ],
      "metadata": {
        "id": "P9vTgiLRrJ7T",
        "colab": {
          "base_uri": "https://localhost:8080/"
        },
        "outputId": "412493bd-13f2-457f-8ecc-3d94c22f4e60"
      },
      "execution_count": 92,
      "outputs": [
        {
          "output_type": "execute_result",
          "data": {
            "text/plain": [
              "LinearRegressionModelV2(\n",
              "  (linear_layer): Linear(in_features=1, out_features=1, bias=True)\n",
              ")"
            ]
          },
          "metadata": {},
          "execution_count": 92
        }
      ]
    },
    {
      "cell_type": "code",
      "source": [
        "from google.colab import drive\n",
        "drive.mount('/content/drive')"
      ],
      "metadata": {
        "colab": {
          "base_uri": "https://localhost:8080/"
        },
        "id": "EGCY9LyEumPA",
        "outputId": "a4f080e2-a169-45a4-a925-4c96fe822ef9"
      },
      "execution_count": 93,
      "outputs": [
        {
          "output_type": "stream",
          "name": "stdout",
          "text": [
            "Mounted at /content/drive\n"
          ]
        }
      ]
    },
    {
      "cell_type": "code",
      "source": [
        "# Make predictions with loaded model and compare them to the previous\n",
        "loaded_model_V1.state_dict()"
      ],
      "metadata": {
        "id": "8UGX3VebrVtI",
        "colab": {
          "base_uri": "https://localhost:8080/"
        },
        "outputId": "b782ff3d-6c17-4286-bf83-2316aab58aaa"
      },
      "execution_count": 94,
      "outputs": [
        {
          "output_type": "execute_result",
          "data": {
            "text/plain": [
              "OrderedDict([('weights', tensor([0.9316], device='cuda:0')),\n",
              "             ('bias', tensor([0.6067], device='cuda:0'))])"
            ]
          },
          "metadata": {},
          "execution_count": 94
        }
      ]
    },
    {
      "cell_type": "code",
      "source": [],
      "metadata": {
        "id": "XrrpfwGyvUob"
      },
      "execution_count": null,
      "outputs": []
    }
  ]
}