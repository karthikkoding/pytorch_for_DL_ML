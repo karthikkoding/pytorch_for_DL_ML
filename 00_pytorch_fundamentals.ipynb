{
  "nbformat": 4,
  "nbformat_minor": 0,
  "metadata": {
    "colab": {
      "provenance": [],
      "authorship_tag": "ABX9TyPtI8Bb3PPm012kbHX88O1M",
      "include_colab_link": true
    },
    "kernelspec": {
      "name": "python3",
      "display_name": "Python 3"
    },
    "language_info": {
      "name": "python"
    }
  },
  "cells": [
    {
      "cell_type": "markdown",
      "metadata": {
        "id": "view-in-github",
        "colab_type": "text"
      },
      "source": [
        "<a href=\"https://colab.research.google.com/github/karthikkoding/pytorch_for_DL_ML/blob/main/00_pytorch_fundamentals.ipynb\" target=\"_parent\"><img src=\"https://colab.research.google.com/assets/colab-badge.svg\" alt=\"Open In Colab\"/></a>"
      ]
    },
    {
      "cell_type": "markdown",
      "source": [
        "## 00.Pytorch Fundamentals\n",
        "\n",
        "resource Notebook : https://www.learnpytorch.io/00_pytorch_fundamentals/\n",
        "\n",
        "github - Q&A : https://github.com/mrdbourke/pytorch-deep-learning"
      ],
      "metadata": {
        "id": "GmcKfNlRQO6I"
      }
    },
    {
      "cell_type": "code",
      "execution_count": null,
      "metadata": {
        "colab": {
          "base_uri": "https://localhost:8080/"
        },
        "id": "qxAVRR37O8QC",
        "outputId": "7895dcd5-b29c-41d7-994c-2629a3ba7887"
      },
      "outputs": [
        {
          "output_type": "stream",
          "name": "stdout",
          "text": [
            "i am excited to write pytorch code\n"
          ]
        }
      ],
      "source": [
        "print(\"i am excited to write pytorch code\")"
      ]
    },
    {
      "cell_type": "code",
      "source": [
        "!nvidia-smi"
      ],
      "metadata": {
        "colab": {
          "base_uri": "https://localhost:8080/"
        },
        "id": "cvL69FB2Pk3c",
        "outputId": "17c62d49-ab67-4a97-87e1-fca6e850bb15"
      },
      "execution_count": null,
      "outputs": [
        {
          "output_type": "stream",
          "name": "stdout",
          "text": [
            "Wed Mar 20 19:04:04 2024       \n",
            "+---------------------------------------------------------------------------------------+\n",
            "| NVIDIA-SMI 535.104.05             Driver Version: 535.104.05   CUDA Version: 12.2     |\n",
            "|-----------------------------------------+----------------------+----------------------+\n",
            "| GPU  Name                 Persistence-M | Bus-Id        Disp.A | Volatile Uncorr. ECC |\n",
            "| Fan  Temp   Perf          Pwr:Usage/Cap |         Memory-Usage | GPU-Util  Compute M. |\n",
            "|                                         |                      |               MIG M. |\n",
            "|=========================================+======================+======================|\n",
            "|   0  Tesla T4                       Off | 00000000:00:04.0 Off |                    0 |\n",
            "| N/A   44C    P8              10W /  70W |      0MiB / 15360MiB |      0%      Default |\n",
            "|                                         |                      |                  N/A |\n",
            "+-----------------------------------------+----------------------+----------------------+\n",
            "                                                                                         \n",
            "+---------------------------------------------------------------------------------------+\n",
            "| Processes:                                                                            |\n",
            "|  GPU   GI   CI        PID   Type   Process name                            GPU Memory |\n",
            "|        ID   ID                                                             Usage      |\n",
            "|=======================================================================================|\n",
            "|  No running processes found                                                           |\n",
            "+---------------------------------------------------------------------------------------+\n"
          ]
        }
      ]
    },
    {
      "cell_type": "code",
      "source": [
        "import torch\n",
        "import pandas as pd\n",
        "import numpy as np\n",
        "import matplotlib.pyplot as plt\n",
        "print(torch.__version__)"
      ],
      "metadata": {
        "colab": {
          "base_uri": "https://localhost:8080/"
        },
        "id": "zd1YgaUzP8Dq",
        "outputId": "b24e621f-c7e2-4869-afb9-9b781e9c4054"
      },
      "execution_count": null,
      "outputs": [
        {
          "output_type": "stream",
          "name": "stdout",
          "text": [
            "2.2.1+cu121\n"
          ]
        }
      ]
    },
    {
      "cell_type": "markdown",
      "source": [
        "##Introduction to tensor\n",
        "##creating tensors\n",
        "\n",
        "Pytorch tensors are created using `torch.Tensor()`\n",
        "\n",
        "Link : https://pytorch.org/docs/stable/tensors.html"
      ],
      "metadata": {
        "id": "TIiBOw5KRJzj"
      }
    },
    {
      "cell_type": "code",
      "source": [
        "#scalar\n",
        "\n",
        "scalar = torch.tensor(7)\n",
        "scalar"
      ],
      "metadata": {
        "colab": {
          "base_uri": "https://localhost:8080/"
        },
        "id": "320m39ajSrwk",
        "outputId": "d919ecb7-2c25-4a91-d7c3-6459bd6d8034"
      },
      "execution_count": null,
      "outputs": [
        {
          "output_type": "execute_result",
          "data": {
            "text/plain": [
              "tensor(7)"
            ]
          },
          "metadata": {},
          "execution_count": 2
        }
      ]
    },
    {
      "cell_type": "code",
      "source": [
        " scalar.ndim"
      ],
      "metadata": {
        "colab": {
          "base_uri": "https://localhost:8080/"
        },
        "id": "ZZI--4cuTFEB",
        "outputId": "52abc95d-10c4-4321-dddd-b42ea954ea77"
      },
      "execution_count": null,
      "outputs": [
        {
          "output_type": "execute_result",
          "data": {
            "text/plain": [
              "0"
            ]
          },
          "metadata": {},
          "execution_count": 3
        }
      ]
    },
    {
      "cell_type": "code",
      "source": [
        " scalar.item()"
      ],
      "metadata": {
        "colab": {
          "base_uri": "https://localhost:8080/"
        },
        "id": "Edz1rUDcUhmM",
        "outputId": "b57f3e9f-2559-4ac1-e8db-0c2a765fdbe1"
      },
      "execution_count": null,
      "outputs": [
        {
          "output_type": "execute_result",
          "data": {
            "text/plain": [
              "7"
            ]
          },
          "metadata": {},
          "execution_count": 4
        }
      ]
    },
    {
      "cell_type": "code",
      "source": [
        "# Vector\n",
        "\n",
        "vector = torch.tensor([[7,7],[8,9]])\n",
        "vector"
      ],
      "metadata": {
        "colab": {
          "base_uri": "https://localhost:8080/"
        },
        "id": "fPSGl69UUp_l",
        "outputId": "b4e0fa8d-ebd5-427b-cacd-b8609b787873"
      },
      "execution_count": null,
      "outputs": [
        {
          "output_type": "execute_result",
          "data": {
            "text/plain": [
              "tensor([[7, 7],\n",
              "        [8, 9]])"
            ]
          },
          "metadata": {},
          "execution_count": 5
        }
      ]
    },
    {
      "cell_type": "code",
      "source": [
        "vector.shape"
      ],
      "metadata": {
        "colab": {
          "base_uri": "https://localhost:8080/"
        },
        "id": "gMmwTrX4UzZN",
        "outputId": "cac93426-fa3e-471a-b6cb-e3c2d29c97a8"
      },
      "execution_count": null,
      "outputs": [
        {
          "output_type": "execute_result",
          "data": {
            "text/plain": [
              "torch.Size([2, 2])"
            ]
          },
          "metadata": {},
          "execution_count": 6
        }
      ]
    },
    {
      "cell_type": "code",
      "source": [
        "##MATRIX\n",
        "\n",
        "matrix = torch.tensor([[7,8],[7,9]])\n",
        "matrix"
      ],
      "metadata": {
        "colab": {
          "base_uri": "https://localhost:8080/"
        },
        "id": "wYIXTOX1U830",
        "outputId": "b35543f3-ae75-41d2-82ce-f33c2f355a7e"
      },
      "execution_count": null,
      "outputs": [
        {
          "output_type": "execute_result",
          "data": {
            "text/plain": [
              "tensor([[7, 8],\n",
              "        [7, 9]])"
            ]
          },
          "metadata": {},
          "execution_count": 7
        }
      ]
    },
    {
      "cell_type": "code",
      "source": [
        "matrix.ndim"
      ],
      "metadata": {
        "colab": {
          "base_uri": "https://localhost:8080/"
        },
        "id": "Tbz1sBz3VoP9",
        "outputId": "a0edaa02-44c1-4b60-b2c2-eabededa058e"
      },
      "execution_count": null,
      "outputs": [
        {
          "output_type": "execute_result",
          "data": {
            "text/plain": [
              "2"
            ]
          },
          "metadata": {},
          "execution_count": 8
        }
      ]
    },
    {
      "cell_type": "code",
      "source": [
        "##TENSOR\n",
        "\n",
        "TENSOR = torch.tensor([[[1,2,3],\n",
        "                        [1,2,3],\n",
        "                        [6,7,8]],\n",
        "                       [[4,5,6],\n",
        "                        [8,9,10],\n",
        "                        [6,7,8]]])"
      ],
      "metadata": {
        "id": "dLCUS-vsVsgc"
      },
      "execution_count": null,
      "outputs": []
    },
    {
      "cell_type": "code",
      "source": [
        "TENSOR.ndim"
      ],
      "metadata": {
        "colab": {
          "base_uri": "https://localhost:8080/"
        },
        "id": "xm8yMxjDWix8",
        "outputId": "ef7cfc87-f278-49e6-f543-0ef741095cec"
      },
      "execution_count": null,
      "outputs": [
        {
          "output_type": "execute_result",
          "data": {
            "text/plain": [
              "3"
            ]
          },
          "metadata": {},
          "execution_count": 10
        }
      ]
    },
    {
      "cell_type": "code",
      "source": [
        "TENSOR.shape"
      ],
      "metadata": {
        "colab": {
          "base_uri": "https://localhost:8080/"
        },
        "id": "V-BG0NzYWlpM",
        "outputId": "fae9a884-11c8-4dad-c05f-db367f794872"
      },
      "execution_count": null,
      "outputs": [
        {
          "output_type": "execute_result",
          "data": {
            "text/plain": [
              "torch.Size([2, 3, 3])"
            ]
          },
          "metadata": {},
          "execution_count": 11
        }
      ]
    },
    {
      "cell_type": "code",
      "source": [
        "TENSOR[0]"
      ],
      "metadata": {
        "colab": {
          "base_uri": "https://localhost:8080/"
        },
        "id": "7RoNnIvTWpHr",
        "outputId": "0d0c94eb-6e62-4c9b-86a2-209c308e7e25"
      },
      "execution_count": null,
      "outputs": [
        {
          "output_type": "execute_result",
          "data": {
            "text/plain": [
              "tensor([[1, 2, 3],\n",
              "        [1, 2, 3],\n",
              "        [6, 7, 8]])"
            ]
          },
          "metadata": {},
          "execution_count": 12
        }
      ]
    },
    {
      "cell_type": "markdown",
      "source": [
        "###Random Tensors\n",
        "\n",
        "Why random tensors?\n",
        "\n",
        "random tensors are important because the way many neural networks is that they start with tensors full of random numbers and then adjust those random number to better represent the data\n",
        "\n",
        "`start with random number -> look at data -> update random numbers -> look at data -> update`"
      ],
      "metadata": {
        "id": "QR_SXQaxbJiy"
      }
    },
    {
      "cell_type": "code",
      "source": [
        "##create Random tensors of size (3,4)\n",
        "\n",
        "random_tensor = torch.rand(3,4)\n",
        "random_tensor\n",
        "\n"
      ],
      "metadata": {
        "colab": {
          "base_uri": "https://localhost:8080/"
        },
        "id": "ZpqNKWK3Xkxs",
        "outputId": "6b315367-0da1-4e3b-c72d-5028599ef906"
      },
      "execution_count": null,
      "outputs": [
        {
          "output_type": "execute_result",
          "data": {
            "text/plain": [
              "tensor([[0.1375, 0.0729, 0.0930, 0.5773],\n",
              "        [0.4853, 0.2798, 0.9401, 0.8550],\n",
              "        [0.8457, 0.4795, 0.8986, 0.3237]])"
            ]
          },
          "metadata": {},
          "execution_count": 13
        }
      ]
    },
    {
      "cell_type": "code",
      "source": [
        "random_tensor.ndim"
      ],
      "metadata": {
        "colab": {
          "base_uri": "https://localhost:8080/"
        },
        "id": "dP6iILzrXp6R",
        "outputId": "66453c90-79b6-4718-8ec3-9413439bddc7"
      },
      "execution_count": null,
      "outputs": [
        {
          "output_type": "execute_result",
          "data": {
            "text/plain": [
              "2"
            ]
          },
          "metadata": {},
          "execution_count": 14
        }
      ]
    },
    {
      "cell_type": "code",
      "source": [
        "##create Random tensors similar to image tensor\n",
        "\n",
        "random_image_size_tensor = torch.rand(size=(225,225,3))\n",
        "random_image_size_tensor"
      ],
      "metadata": {
        "colab": {
          "base_uri": "https://localhost:8080/"
        },
        "id": "fbLXsxmcchbJ",
        "outputId": "8af4c144-1516-4a8e-91a1-4a28bc4ef1a3"
      },
      "execution_count": null,
      "outputs": [
        {
          "output_type": "execute_result",
          "data": {
            "text/plain": [
              "tensor([[[0.2754, 0.5571, 0.2137],\n",
              "         [0.0427, 0.4696, 0.7816],\n",
              "         [0.6050, 0.3738, 0.6177],\n",
              "         ...,\n",
              "         [0.4586, 0.9641, 0.3775],\n",
              "         [0.6335, 0.8021, 0.2228],\n",
              "         [0.4926, 0.1051, 0.5373]],\n",
              "\n",
              "        [[0.9205, 0.8345, 0.0211],\n",
              "         [0.1308, 0.0936, 0.0182],\n",
              "         [0.0104, 0.0705, 0.6044],\n",
              "         ...,\n",
              "         [0.4950, 0.1214, 0.5472],\n",
              "         [0.0687, 0.9645, 0.8383],\n",
              "         [0.9666, 0.5383, 0.7191]],\n",
              "\n",
              "        [[0.2092, 0.4535, 0.8466],\n",
              "         [0.9504, 0.7941, 0.7843],\n",
              "         [0.8121, 0.7559, 0.5102],\n",
              "         ...,\n",
              "         [0.8094, 0.4211, 0.1484],\n",
              "         [0.8064, 0.6886, 0.0459],\n",
              "         [0.5265, 0.5092, 0.2789]],\n",
              "\n",
              "        ...,\n",
              "\n",
              "        [[0.2450, 0.8734, 0.6113],\n",
              "         [0.5003, 0.1273, 0.9486],\n",
              "         [0.7595, 0.4493, 0.5113],\n",
              "         ...,\n",
              "         [0.7470, 0.5975, 0.2626],\n",
              "         [0.1383, 0.5437, 0.0846],\n",
              "         [0.3945, 0.2010, 0.8906]],\n",
              "\n",
              "        [[0.2859, 0.1953, 0.6878],\n",
              "         [0.4694, 0.6616, 0.6727],\n",
              "         [0.7415, 0.6681, 0.3886],\n",
              "         ...,\n",
              "         [0.5613, 0.1029, 0.2628],\n",
              "         [0.5928, 0.6585, 0.2604],\n",
              "         [0.5281, 0.5247, 0.4078]],\n",
              "\n",
              "        [[0.6037, 0.2016, 0.0649],\n",
              "         [0.5456, 0.6877, 0.3529],\n",
              "         [0.6622, 0.7439, 0.4523],\n",
              "         ...,\n",
              "         [0.9572, 0.2096, 0.5689],\n",
              "         [0.0886, 0.6106, 0.7755],\n",
              "         [0.7955, 0.1135, 0.3501]]])"
            ]
          },
          "metadata": {},
          "execution_count": 15
        }
      ]
    },
    {
      "cell_type": "markdown",
      "source": [
        "### zeros and ones"
      ],
      "metadata": {
        "id": "qH9na9a5dFY6"
      }
    },
    {
      "cell_type": "code",
      "source": [
        "# create a tensor of all zeros\n",
        "\n",
        "zeros = torch.zeros(size=(3,4))\n",
        "zeros"
      ],
      "metadata": {
        "colab": {
          "base_uri": "https://localhost:8080/"
        },
        "id": "t2lbmaMef42U",
        "outputId": "685d6e9e-6dc0-4f4d-e72b-650be1dc4717"
      },
      "execution_count": null,
      "outputs": [
        {
          "output_type": "execute_result",
          "data": {
            "text/plain": [
              "tensor([[0., 0., 0., 0.],\n",
              "        [0., 0., 0., 0.],\n",
              "        [0., 0., 0., 0.]])"
            ]
          },
          "metadata": {},
          "execution_count": 16
        }
      ]
    },
    {
      "cell_type": "code",
      "source": [
        "zeros*random_tensor"
      ],
      "metadata": {
        "colab": {
          "base_uri": "https://localhost:8080/"
        },
        "id": "V1BWwNuAgEHZ",
        "outputId": "3febf585-bfcc-41a6-c07b-3cbee357814f"
      },
      "execution_count": null,
      "outputs": [
        {
          "output_type": "execute_result",
          "data": {
            "text/plain": [
              "tensor([[0., 0., 0., 0.],\n",
              "        [0., 0., 0., 0.],\n",
              "        [0., 0., 0., 0.]])"
            ]
          },
          "metadata": {},
          "execution_count": 17
        }
      ]
    },
    {
      "cell_type": "code",
      "source": [
        "# create a tensor of all zeros\n",
        "\n",
        "ones = torch.ones(size=(3,4))\n",
        "ones"
      ],
      "metadata": {
        "colab": {
          "base_uri": "https://localhost:8080/"
        },
        "id": "0GV5BWPxgKQ1",
        "outputId": "60715506-d0dc-44e2-c872-e91d6e40cd3a"
      },
      "execution_count": null,
      "outputs": [
        {
          "output_type": "execute_result",
          "data": {
            "text/plain": [
              "tensor([[1., 1., 1., 1.],\n",
              "        [1., 1., 1., 1.],\n",
              "        [1., 1., 1., 1.]])"
            ]
          },
          "metadata": {},
          "execution_count": 18
        }
      ]
    },
    {
      "cell_type": "code",
      "source": [
        "ones.dtype"
      ],
      "metadata": {
        "colab": {
          "base_uri": "https://localhost:8080/"
        },
        "id": "V4zIUOkTgWOa",
        "outputId": "797dddd4-fe0c-4c02-d197-6330548cac33"
      },
      "execution_count": null,
      "outputs": [
        {
          "output_type": "execute_result",
          "data": {
            "text/plain": [
              "torch.float32"
            ]
          },
          "metadata": {},
          "execution_count": 19
        }
      ]
    },
    {
      "cell_type": "markdown",
      "source": [
        "###Creating a range of tensors and tensor-like"
      ],
      "metadata": {
        "id": "6FttiIDrgYXK"
      }
    },
    {
      "cell_type": "code",
      "source": [
        "#create a range of tensors\n",
        "\n",
        "one_to_ten = torch.arange(0,10,1)"
      ],
      "metadata": {
        "id": "YRU9su3Mgv-N"
      },
      "execution_count": null,
      "outputs": []
    },
    {
      "cell_type": "code",
      "source": [
        "#creating a tensors-like\n",
        "#we want to replicate from something else which is already created\n",
        "\n",
        "ten_zeros = torch.zeros_like(input=one_to_ten)\n",
        "ten_zeros"
      ],
      "metadata": {
        "colab": {
          "base_uri": "https://localhost:8080/"
        },
        "id": "ZQPyfpn7g6aw",
        "outputId": "981e3d66-a032-4baf-f459-c2a61970ca00"
      },
      "execution_count": null,
      "outputs": [
        {
          "output_type": "execute_result",
          "data": {
            "text/plain": [
              "tensor([0, 0, 0, 0, 0, 0, 0, 0, 0, 0])"
            ]
          },
          "metadata": {},
          "execution_count": 21
        }
      ]
    },
    {
      "cell_type": "code",
      "source": [],
      "metadata": {
        "id": "SUCB2j2ph9Qv"
      },
      "execution_count": null,
      "outputs": []
    },
    {
      "cell_type": "code",
      "source": [],
      "metadata": {
        "id": "LnH5YG-Chw6f"
      },
      "execution_count": null,
      "outputs": []
    },
    {
      "cell_type": "markdown",
      "source": [
        "### Tensor Datatypes"
      ],
      "metadata": {
        "id": "n29QItgGh4-H"
      }
    },
    {
      "cell_type": "markdown",
      "source": [],
      "metadata": {
        "id": "ZWPM15LyT0CY"
      }
    },
    {
      "cell_type": "code",
      "source": [
        "# create tensor of different datatypes\n",
        "#default is float32\n",
        "float_32_tensor = torch.tensor([3.0,6,9],dtype=None)"
      ],
      "metadata": {
        "id": "zwtb7crATqTl"
      },
      "execution_count": null,
      "outputs": []
    },
    {
      "cell_type": "code",
      "source": [
        "float_32_tensor.dtype"
      ],
      "metadata": {
        "colab": {
          "base_uri": "https://localhost:8080/"
        },
        "id": "JrSfSjECUAJZ",
        "outputId": "5e532bb5-f35f-47ad-81f9-ba7cdc26fbcd"
      },
      "execution_count": null,
      "outputs": [
        {
          "output_type": "execute_result",
          "data": {
            "text/plain": [
              "torch.float32"
            ]
          },
          "metadata": {},
          "execution_count": 32
        }
      ]
    },
    {
      "cell_type": "code",
      "source": [
        "float_16_tensor = torch.tensor([3.0,6,9],\n",
        "                               dtype=torch.float16,\n",
        "                               device=None,\n",
        "                               requires_grad=False)"
      ],
      "metadata": {
        "id": "eNrz3IFGUBQA"
      },
      "execution_count": null,
      "outputs": []
    },
    {
      "cell_type": "code",
      "source": [
        "float_16_tensor.dtype"
      ],
      "metadata": {
        "colab": {
          "base_uri": "https://localhost:8080/"
        },
        "id": "-1oFaw2JXIHm",
        "outputId": "9bea8c2f-5fff-4bf9-a991-fdfba3224e57"
      },
      "execution_count": null,
      "outputs": [
        {
          "output_type": "execute_result",
          "data": {
            "text/plain": [
              "torch.float16"
            ]
          },
          "metadata": {},
          "execution_count": 40
        }
      ]
    },
    {
      "cell_type": "code",
      "source": [
        "float_16_tensor_2 = float_32_tensor.type(torch.int32)"
      ],
      "metadata": {
        "id": "rVN1DMpQXPMM"
      },
      "execution_count": null,
      "outputs": []
    },
    {
      "cell_type": "code",
      "source": [
        "float_16_tensor_2"
      ],
      "metadata": {
        "colab": {
          "base_uri": "https://localhost:8080/"
        },
        "id": "0SIv_kasYKZn",
        "outputId": "1d4a86d3-cc9f-4803-f814-f1b925259095"
      },
      "execution_count": null,
      "outputs": [
        {
          "output_type": "execute_result",
          "data": {
            "text/plain": [
              "tensor([3, 6, 9], dtype=torch.int32)"
            ]
          },
          "metadata": {},
          "execution_count": 42
        }
      ]
    },
    {
      "cell_type": "code",
      "source": [
        "float_16_tensor_2*float_16_tensor"
      ],
      "metadata": {
        "colab": {
          "base_uri": "https://localhost:8080/"
        },
        "id": "vktH3wzIYNLM",
        "outputId": "17004ecd-931a-4af0-a350-c408fc731e34"
      },
      "execution_count": null,
      "outputs": [
        {
          "output_type": "execute_result",
          "data": {
            "text/plain": [
              "tensor([ 9., 36., 81.], dtype=torch.float16)"
            ]
          },
          "metadata": {},
          "execution_count": 43
        }
      ]
    },
    {
      "cell_type": "markdown",
      "source": [
        "### Getting information from tensors\n",
        "\n",
        "Once you've created tensors (or someone else or a PyTorch module has created them for you), you might want to get some information from them.\n",
        "\n",
        "We've seen these before but three of the most common attributes you'll want to find out about tensors are:\n",
        "\n",
        "shape - what shape is the tensor? (some operations require specific shape rules)\n",
        "dtype - what datatype are the elements within the tensor stored in?\n",
        "device - what device is the tensor stored on? (usually GPU or CPU)"
      ],
      "metadata": {
        "id": "YsRoSrJiYxMT"
      }
    },
    {
      "cell_type": "code",
      "source": [
        "#create a tensor and try to get 3 error above errors\n",
        "\n",
        "some_tensor = torch.rand(3,4)\n",
        "some_tensor"
      ],
      "metadata": {
        "colab": {
          "base_uri": "https://localhost:8080/"
        },
        "id": "Cq6C3mF5Z3Ye",
        "outputId": "d65326f7-33fd-498d-a86a-3befda6eeda4"
      },
      "execution_count": null,
      "outputs": [
        {
          "output_type": "execute_result",
          "data": {
            "text/plain": [
              "tensor([[0.7293, 0.5193, 0.7770, 0.9064],\n",
              "        [0.0515, 0.1474, 0.6579, 0.5967],\n",
              "        [0.6747, 0.6462, 0.6303, 0.4621]])"
            ]
          },
          "metadata": {},
          "execution_count": 47
        }
      ]
    },
    {
      "cell_type": "code",
      "source": [
        "#findout details about tensor\n",
        "\n",
        "print(some_tensor)\n",
        "print(f\"Datatype of tensor : {some_tensor.dtype}\")\n",
        "print(f\"Shape of tensor : {some_tensor.shape}\")\n",
        "print(f\"Device of tensor : {some_tensor.device}\")"
      ],
      "metadata": {
        "colab": {
          "base_uri": "https://localhost:8080/"
        },
        "id": "Bq3U28Y4Z2yS",
        "outputId": "cedffc16-19c3-48ae-f6b9-c7dd270a45e3"
      },
      "execution_count": null,
      "outputs": [
        {
          "output_type": "stream",
          "name": "stdout",
          "text": [
            "tensor([[0.7293, 0.5193, 0.7770, 0.9064],\n",
            "        [0.0515, 0.1474, 0.6579, 0.5967],\n",
            "        [0.6747, 0.6462, 0.6303, 0.4621]])\n",
            "Datatype of tensor : torch.float32\n",
            "Shape of tensor : torch.Size([3, 4])\n",
            "Device of tensor : cpu\n"
          ]
        }
      ]
    },
    {
      "cell_type": "markdown",
      "source": [
        "###Manipulating tensor (tensor operations)\n",
        "\n",
        "Tensor operations include\n",
        "\n",
        "* Addition\n",
        "* Subtraction\n",
        "* Multiplication (element-wise)\n",
        "* Division\n",
        "* Matrix Multiplication\n"
      ],
      "metadata": {
        "id": "L88JtGNWa0yx"
      }
    },
    {
      "cell_type": "code",
      "source": [
        "# Addition\n",
        "\n",
        "tensor = torch.tensor([1,2,3])\n",
        "\n",
        "tensor + 100"
      ],
      "metadata": {
        "colab": {
          "base_uri": "https://localhost:8080/"
        },
        "id": "Xki60yHGdHX_",
        "outputId": "7b665abd-f397-4760-872e-71f1b628124d"
      },
      "execution_count": null,
      "outputs": [
        {
          "output_type": "execute_result",
          "data": {
            "text/plain": [
              "tensor([101, 102, 103])"
            ]
          },
          "metadata": {},
          "execution_count": 54
        }
      ]
    },
    {
      "cell_type": "code",
      "source": [
        "# Multiplication\n",
        "\n",
        "tensor = torch.tensor([1,2,3])\n",
        "\n",
        "tensor * 100"
      ],
      "metadata": {
        "colab": {
          "base_uri": "https://localhost:8080/"
        },
        "id": "e94yMR6BdNkw",
        "outputId": "6b67df2d-a121-47e2-a9f8-a1c5a4fe11ae"
      },
      "execution_count": null,
      "outputs": [
        {
          "output_type": "execute_result",
          "data": {
            "text/plain": [
              "tensor([100, 200, 300])"
            ]
          },
          "metadata": {},
          "execution_count": 55
        }
      ]
    },
    {
      "cell_type": "code",
      "source": [
        "tensor1 = torch.rand([3,4])\n",
        "tensor2 = torch.rand([3,4])\n",
        "tensor3 = torch.rand([4,5])\n",
        "tensor4 = torch.rand([1,3])\n",
        "tensor5 = torch.rand([3,1])"
      ],
      "metadata": {
        "id": "f2sKNGHIdQev"
      },
      "execution_count": null,
      "outputs": []
    },
    {
      "cell_type": "code",
      "source": [
        "tensor1*tensor2"
      ],
      "metadata": {
        "colab": {
          "base_uri": "https://localhost:8080/"
        },
        "id": "2HZeRvs_dg8W",
        "outputId": "fae59535-580c-4824-af54-737a9a527cc7"
      },
      "execution_count": null,
      "outputs": [
        {
          "output_type": "execute_result",
          "data": {
            "text/plain": [
              "tensor([[0.5010, 0.7421, 0.1559, 0.0993],\n",
              "        [0.8096, 0.1741, 0.0154, 0.3143],\n",
              "        [0.3164, 0.1870, 0.0463, 0.3505]])"
            ]
          },
          "metadata": {},
          "execution_count": 60
        }
      ]
    },
    {
      "cell_type": "code",
      "source": [
        "#Try out inbuilt functions\n",
        "\n",
        "torch.mul(tensor1,10)\n",
        "torch.add(tensor1,10)\n",
        "torch.sub(tensor1,10)\n"
      ],
      "metadata": {
        "colab": {
          "base_uri": "https://localhost:8080/"
        },
        "id": "hJ-hhztydnQ-",
        "outputId": "facb5355-1461-433d-cb36-4ebc4798acf9"
      },
      "execution_count": null,
      "outputs": [
        {
          "output_type": "execute_result",
          "data": {
            "text/plain": [
              "tensor([[-9.4539, -9.9706, -9.1840, -9.0904],\n",
              "        [-9.8869, -9.4221, -9.9756, -9.8368],\n",
              "        [-9.2488, -9.5353, -9.5504, -9.3098]])"
            ]
          },
          "metadata": {},
          "execution_count": 65
        }
      ]
    },
    {
      "cell_type": "markdown",
      "source": [
        "###Matrix multiplication\n",
        "\n",
        "Two main ways of performing multiplication in deep learning\n",
        "\n",
        "1. Element Wise\n",
        "2. Matrix Multiplication (Dot Product)\n",
        "\n",
        "There are two major rules for matrix multiplication\n",
        "\n",
        "* The **inner dimensions** must match\n",
        "* The resulting matrix has the shape of **outer dimensions**"
      ],
      "metadata": {
        "id": "iCV_yb8Od51-"
      }
    },
    {
      "cell_type": "code",
      "source": [
        "%%time\n",
        "torch.matmul(tensor1 , tensor3)"
      ],
      "metadata": {
        "colab": {
          "base_uri": "https://localhost:8080/"
        },
        "id": "9_sfI4hTf0ob",
        "outputId": "1691d939-d2f7-4f27-ec77-053a2fd2e01e"
      },
      "execution_count": null,
      "outputs": [
        {
          "output_type": "stream",
          "name": "stdout",
          "text": [
            "CPU times: user 0 ns, sys: 556 µs, total: 556 µs\n",
            "Wall time: 415 µs\n"
          ]
        },
        {
          "output_type": "execute_result",
          "data": {
            "text/plain": [
              "tensor([[0.8001, 1.5474, 1.1438, 0.8164, 0.5319],\n",
              "        [1.2164, 1.3481, 1.4024, 1.0017, 0.8807],\n",
              "        [0.9934, 1.1375, 1.4325, 0.9857, 1.0746]])"
            ]
          },
          "metadata": {},
          "execution_count": 108
        }
      ]
    },
    {
      "cell_type": "code",
      "source": [
        "tensor4.ndim"
      ],
      "metadata": {
        "colab": {
          "base_uri": "https://localhost:8080/"
        },
        "id": "_5BlDVBEgErP",
        "outputId": "0a1773dd-1f48-447d-d581-cdc2c03f3d32"
      },
      "execution_count": null,
      "outputs": [
        {
          "output_type": "execute_result",
          "data": {
            "text/plain": [
              "2"
            ]
          },
          "metadata": {},
          "execution_count": 93
        }
      ]
    },
    {
      "cell_type": "code",
      "source": [
        "tensor = torch.tensor([1, 2, 3])"
      ],
      "metadata": {
        "id": "qaKmSWDIhcCy"
      },
      "execution_count": null,
      "outputs": []
    },
    {
      "cell_type": "code",
      "source": [
        "%%time\n",
        "torch.matmul(tensor, tensor)"
      ],
      "metadata": {
        "colab": {
          "base_uri": "https://localhost:8080/"
        },
        "id": "vmMSfh2qhv0C",
        "outputId": "8d97ec82-719c-4cf2-d00f-1636bbf16072"
      },
      "execution_count": null,
      "outputs": [
        {
          "output_type": "stream",
          "name": "stdout",
          "text": [
            "CPU times: user 0 ns, sys: 94 µs, total: 94 µs\n",
            "Wall time: 98.9 µs\n"
          ]
        },
        {
          "output_type": "execute_result",
          "data": {
            "text/plain": [
              "tensor(14)"
            ]
          },
          "metadata": {},
          "execution_count": 106
        }
      ]
    },
    {
      "cell_type": "code",
      "source": [
        "tensor.ndim"
      ],
      "metadata": {
        "colab": {
          "base_uri": "https://localhost:8080/"
        },
        "id": "D8HNDTuch05C",
        "outputId": "ac92b045-8d60-4ecd-ea79-52db8b429e08"
      },
      "execution_count": null,
      "outputs": [
        {
          "output_type": "execute_result",
          "data": {
            "text/plain": [
              "3"
            ]
          },
          "metadata": {},
          "execution_count": 101
        }
      ]
    },
    {
      "cell_type": "markdown",
      "source": [
        "##One of the Most common errors in Deep learning : Shape errors\n"
      ],
      "metadata": {
        "id": "wLTgIwVciFJS"
      }
    },
    {
      "cell_type": "markdown",
      "source": [
        "# shapes for matrix multiplications\n",
        "\n",
        "usually can be solved with traspose using .T"
      ],
      "metadata": {
        "id": "ey5uj44GlKnf"
      }
    },
    {
      "cell_type": "markdown",
      "source": [
        "## Finding the min, max,sum ,ect (tensor aggregration)\n",
        "\n",
        "and also positional aggregations (argmin, argmax)\n"
      ],
      "metadata": {
        "id": "ldSNEXYem_dg"
      }
    },
    {
      "cell_type": "code",
      "source": [
        "x= torch.rand([10])\n",
        "x"
      ],
      "metadata": {
        "colab": {
          "base_uri": "https://localhost:8080/"
        },
        "id": "0x1BkPOInQ3G",
        "outputId": "aaf8b3f2-1708-400e-c519-5f49c75f2403"
      },
      "execution_count": null,
      "outputs": [
        {
          "output_type": "execute_result",
          "data": {
            "text/plain": [
              "tensor([0.2814, 0.1392, 0.5438, 0.9892, 0.5193, 0.5823, 0.9790, 0.3954, 0.3248,\n",
              "        0.1511])"
            ]
          },
          "metadata": {},
          "execution_count": 2
        }
      ]
    },
    {
      "cell_type": "code",
      "source": [
        "x = x.type(torch.float32)"
      ],
      "metadata": {
        "id": "RwWPVfItns3C"
      },
      "execution_count": null,
      "outputs": []
    },
    {
      "cell_type": "code",
      "source": [
        "x.min(), x.max(), x.mean(), x.sum(), x.argmax(), x.argmin()"
      ],
      "metadata": {
        "colab": {
          "base_uri": "https://localhost:8080/"
        },
        "id": "kbBf9S1xnW0d",
        "outputId": "b6112208-42ac-42ba-a188-27d229a8c690"
      },
      "execution_count": null,
      "outputs": [
        {
          "output_type": "execute_result",
          "data": {
            "text/plain": [
              "(tensor(0.1392),\n",
              " tensor(0.9892),\n",
              " tensor(0.4906),\n",
              " tensor(4.9055),\n",
              " tensor(3),\n",
              " tensor(1))"
            ]
          },
          "metadata": {},
          "execution_count": 4
        }
      ]
    },
    {
      "cell_type": "code",
      "source": [
        "torch.min(x)"
      ],
      "metadata": {
        "colab": {
          "base_uri": "https://localhost:8080/"
        },
        "id": "kOjJERNPnYud",
        "outputId": "579f1df2-86a2-43fe-fd3d-398b4fbc724e"
      },
      "execution_count": null,
      "outputs": [
        {
          "output_type": "execute_result",
          "data": {
            "text/plain": [
              "tensor(0.1392)"
            ]
          },
          "metadata": {},
          "execution_count": 5
        }
      ]
    },
    {
      "cell_type": "code",
      "source": [],
      "metadata": {
        "id": "cjpcYHy7nenm"
      },
      "execution_count": null,
      "outputs": []
    },
    {
      "cell_type": "markdown",
      "source": [
        "### Reshaping, viewing and stacking , squeezing and unsqueezing\n",
        "\n",
        "* Reshaping - reshapes an input tensor to a defined shape\n",
        "* View - Return a view of input tensor of certain shape but keep the same memory as the original tensor\n",
        "* Stacking - combine multiple tensors on top of each other vstack or hstack\n",
        "* Squeeze - removes all `1` dimesnions from a tensor\n",
        "* Unsqueeze - add `1` dimesnions to a tensor\n",
        "* Permute - return a view of input with dimensions permuted (swapped) in a certain way"
      ],
      "metadata": {
        "id": "xUDfSAhyo6jU"
      }
    },
    {
      "cell_type": "code",
      "source": [
        "# create a tensor and reshape\n",
        "\n",
        "x = torch.arange(1,10)\n",
        "x, x.shape"
      ],
      "metadata": {
        "colab": {
          "base_uri": "https://localhost:8080/"
        },
        "id": "-C1x9J7WvJYS",
        "outputId": "44fac45b-e833-4382-dad2-121fdfa9061c"
      },
      "execution_count": null,
      "outputs": [
        {
          "output_type": "execute_result",
          "data": {
            "text/plain": [
              "(tensor([1, 2, 3, 4, 5, 6, 7, 8, 9]), torch.Size([9]))"
            ]
          },
          "metadata": {},
          "execution_count": 34
        }
      ]
    },
    {
      "cell_type": "code",
      "source": [
        "# add a extra dimension\n",
        "x_reshaped = x.reshape(9,1)\n",
        "x_reshaped, x_reshaped.shape"
      ],
      "metadata": {
        "colab": {
          "base_uri": "https://localhost:8080/"
        },
        "id": "m-6zQtTNzGl-",
        "outputId": "7d1d20ce-9f8d-4d46-d527-a24a044d6f29"
      },
      "execution_count": null,
      "outputs": [
        {
          "output_type": "execute_result",
          "data": {
            "text/plain": [
              "(tensor([[1],\n",
              "         [2],\n",
              "         [3],\n",
              "         [4],\n",
              "         [5],\n",
              "         [6],\n",
              "         [7],\n",
              "         [8],\n",
              "         [9]]),\n",
              " torch.Size([9, 1]))"
            ]
          },
          "metadata": {},
          "execution_count": 28
        }
      ]
    },
    {
      "cell_type": "code",
      "source": [
        "#Change the view\n",
        "z= x.view(9,1)\n",
        "z, z.shape"
      ],
      "metadata": {
        "colab": {
          "base_uri": "https://localhost:8080/"
        },
        "id": "0_Zb_3DyzXpT",
        "outputId": "9ee56267-09f6-45bd-9ac3-afde5ead1e1f"
      },
      "execution_count": null,
      "outputs": [
        {
          "output_type": "execute_result",
          "data": {
            "text/plain": [
              "(tensor([[1],\n",
              "         [2],\n",
              "         [3],\n",
              "         [4],\n",
              "         [5],\n",
              "         [6],\n",
              "         [7],\n",
              "         [8],\n",
              "         [9]]),\n",
              " torch.Size([9, 1]))"
            ]
          },
          "metadata": {},
          "execution_count": 30
        }
      ]
    },
    {
      "cell_type": "code",
      "source": [
        "z[:,0]=5"
      ],
      "metadata": {
        "id": "jrg7o8TP0W0T"
      },
      "execution_count": null,
      "outputs": []
    },
    {
      "cell_type": "code",
      "source": [
        "z,x"
      ],
      "metadata": {
        "colab": {
          "base_uri": "https://localhost:8080/"
        },
        "id": "gRG9BAyp0oRS",
        "outputId": "4725a093-994d-40c5-a16d-00870e083998"
      },
      "execution_count": null,
      "outputs": [
        {
          "output_type": "execute_result",
          "data": {
            "text/plain": [
              "(tensor([[5],\n",
              "         [5],\n",
              "         [5],\n",
              "         [5],\n",
              "         [5],\n",
              "         [5],\n",
              "         [5],\n",
              "         [5],\n",
              "         [5]]),\n",
              " tensor([5, 5, 5, 5, 5, 5, 5, 5, 5]))"
            ]
          },
          "metadata": {},
          "execution_count": 32
        }
      ]
    },
    {
      "cell_type": "code",
      "source": [
        "# Stack tensors on  top of each other\n",
        "x_stacked = torch.stack([x,x*2,x*3,x*4],dim=-2)\n",
        "x.shape,x_stacked.shape"
      ],
      "metadata": {
        "colab": {
          "base_uri": "https://localhost:8080/"
        },
        "id": "i6HdjJgG0pfh",
        "outputId": "48d20c74-84eb-463e-cd6d-a728af8febfa"
      },
      "execution_count": null,
      "outputs": [
        {
          "output_type": "execute_result",
          "data": {
            "text/plain": [
              "(torch.Size([9]), torch.Size([4, 9]))"
            ]
          },
          "metadata": {},
          "execution_count": 53
        }
      ]
    },
    {
      "cell_type": "code",
      "source": [
        "x_stacked"
      ],
      "metadata": {
        "colab": {
          "base_uri": "https://localhost:8080/"
        },
        "id": "6jFAatD41YGC",
        "outputId": "47890b7a-4baa-4778-93c6-23c03f5e68de"
      },
      "execution_count": null,
      "outputs": [
        {
          "output_type": "execute_result",
          "data": {
            "text/plain": [
              "tensor([[ 1,  2,  3,  4,  5,  6,  7,  8,  9],\n",
              "        [ 2,  4,  6,  8, 10, 12, 14, 16, 18],\n",
              "        [ 3,  6,  9, 12, 15, 18, 21, 24, 27],\n",
              "        [ 4,  8, 12, 16, 20, 24, 28, 32, 36]])"
            ]
          },
          "metadata": {},
          "execution_count": 54
        }
      ]
    },
    {
      "cell_type": "code",
      "source": [
        "#squeeze and unsqueeze\n",
        "#torch.squeeze() removes all single dimensions from the target tensor\n",
        "\n",
        "\n",
        "x_reshaped,x_reshaped.shape,x_reshaped.squeeze().shape"
      ],
      "metadata": {
        "colab": {
          "base_uri": "https://localhost:8080/"
        },
        "id": "B60pESLo1ruB",
        "outputId": "964ac51d-2f8f-435e-fdec-6e5d36aed0c7"
      },
      "execution_count": null,
      "outputs": [
        {
          "output_type": "execute_result",
          "data": {
            "text/plain": [
              "(tensor([[5],\n",
              "         [5],\n",
              "         [5],\n",
              "         [5],\n",
              "         [5],\n",
              "         [5],\n",
              "         [5],\n",
              "         [5],\n",
              "         [5]]),\n",
              " torch.Size([9, 1]),\n",
              " torch.Size([9]))"
            ]
          },
          "metadata": {},
          "execution_count": 72
        }
      ]
    },
    {
      "cell_type": "code",
      "source": [
        "print(f\"Previous tensor : {x_reshaped}\")\n",
        "print(f\"Previous shape : {x_reshaped.shape}\")\n",
        "\n",
        "\n",
        "print(f\"squeezed tensor : {x_reshaped.squeeze()}\")\n",
        "print(f\"squeezed tensor shape : {x_reshaped.squeeze().shape}\")"
      ],
      "metadata": {
        "colab": {
          "base_uri": "https://localhost:8080/"
        },
        "id": "WysWi_ob7bJ0",
        "outputId": "9041398b-f728-45a1-eb8c-ef1dc6e27878"
      },
      "execution_count": null,
      "outputs": [
        {
          "output_type": "stream",
          "name": "stdout",
          "text": [
            "Previous tensor : tensor([[5],\n",
            "        [5],\n",
            "        [5],\n",
            "        [5],\n",
            "        [5],\n",
            "        [5],\n",
            "        [5],\n",
            "        [5],\n",
            "        [5]])\n",
            "Previous shape : torch.Size([9, 1])\n",
            "squeezed tensor : tensor([5, 5, 5, 5, 5, 5, 5, 5, 5])\n",
            "squeezed tensor shape : torch.Size([9])\n"
          ]
        }
      ]
    },
    {
      "cell_type": "code",
      "source": [
        "x = torch.zeros(2, 1, 2, 1, 2,1)\n",
        "x.size()\n"
      ],
      "metadata": {
        "colab": {
          "base_uri": "https://localhost:8080/"
        },
        "id": "rVPuJqvK9AFZ",
        "outputId": "2e1b8200-0c15-452c-f731-9f4636cd0471"
      },
      "execution_count": null,
      "outputs": [
        {
          "output_type": "execute_result",
          "data": {
            "text/plain": [
              "torch.Size([2, 1, 2, 1, 2, 1])"
            ]
          },
          "metadata": {},
          "execution_count": 82
        }
      ]
    },
    {
      "cell_type": "code",
      "source": [
        "y = torch.squeeze(x)\n",
        "y.size()\n"
      ],
      "metadata": {
        "colab": {
          "base_uri": "https://localhost:8080/"
        },
        "id": "xxzgSG189TwC",
        "outputId": "02e54241-4442-450c-e390-4e4ab26c39a7"
      },
      "execution_count": null,
      "outputs": [
        {
          "output_type": "execute_result",
          "data": {
            "text/plain": [
              "torch.Size([2, 2, 2])"
            ]
          },
          "metadata": {},
          "execution_count": 83
        }
      ]
    },
    {
      "cell_type": "code",
      "source": [
        "y = torch.squeeze(x, 0)\n",
        "y.size()\n"
      ],
      "metadata": {
        "colab": {
          "base_uri": "https://localhost:8080/"
        },
        "id": "WN96-FNg9W1x",
        "outputId": "d10612f5-96a5-4878-f7ee-b112182c2587"
      },
      "execution_count": null,
      "outputs": [
        {
          "output_type": "execute_result",
          "data": {
            "text/plain": [
              "torch.Size([2, 1, 2, 1, 2, 1])"
            ]
          },
          "metadata": {},
          "execution_count": 84
        }
      ]
    },
    {
      "cell_type": "code",
      "source": [
        "y = torch.squeeze(x, 1)\n",
        "y.size()\n"
      ],
      "metadata": {
        "colab": {
          "base_uri": "https://localhost:8080/"
        },
        "id": "_BS2JAsV9ZFa",
        "outputId": "06561b9d-6828-4323-c2d4-82312143171d"
      },
      "execution_count": null,
      "outputs": [
        {
          "output_type": "execute_result",
          "data": {
            "text/plain": [
              "torch.Size([2, 2, 1, 2, 1])"
            ]
          },
          "metadata": {},
          "execution_count": 85
        }
      ]
    },
    {
      "cell_type": "code",
      "source": [
        "y = torch.squeeze(x, (1, 2, 3))\n",
        "y.shape"
      ],
      "metadata": {
        "colab": {
          "base_uri": "https://localhost:8080/"
        },
        "id": "Cx0k_rnw9ehS",
        "outputId": "c33eafda-817d-40ef-8116-343bfed2cb1a"
      },
      "execution_count": null,
      "outputs": [
        {
          "output_type": "execute_result",
          "data": {
            "text/plain": [
              "torch.Size([2, 2, 2, 1])"
            ]
          },
          "metadata": {},
          "execution_count": 87
        }
      ]
    },
    {
      "cell_type": "code",
      "source": [
        "##permute - rearrange the dimesions of target tensor in a sepcified manner\n",
        "\n",
        "x = torch.randn(2, 3, 5)\n",
        "x.size()\n",
        "x"
      ],
      "metadata": {
        "colab": {
          "base_uri": "https://localhost:8080/"
        },
        "id": "HnPEshSJ9nLY",
        "outputId": "b5427612-fcd1-400f-e85e-25fbcd9b9e4a"
      },
      "execution_count": null,
      "outputs": [
        {
          "output_type": "execute_result",
          "data": {
            "text/plain": [
              "tensor([[[ 2.3767e-03,  1.4276e+00,  1.4352e+00, -4.3201e-01, -2.8814e-01],\n",
              "         [-2.6470e-04,  1.0396e+00, -4.1431e-02,  1.5747e+00,  4.0900e-01],\n",
              "         [ 9.4293e-01,  2.2981e-03, -4.2279e-01,  2.7503e+00, -4.8245e-01]],\n",
              "\n",
              "        [[-5.7717e-01, -1.2610e+00, -9.4321e-01, -5.3589e-01,  2.6051e-01],\n",
              "         [ 1.0684e+00, -3.7817e-01, -4.0443e-01,  1.2317e+00,  8.0711e-01],\n",
              "         [ 5.6162e-01, -6.1543e-01, -5.4270e-02, -9.7147e-01,  1.2718e+00]]])"
            ]
          },
          "metadata": {},
          "execution_count": 89
        }
      ]
    },
    {
      "cell_type": "code",
      "source": [
        "torch.permute(x, (2, 0, 1)).size()\n"
      ],
      "metadata": {
        "colab": {
          "base_uri": "https://localhost:8080/"
        },
        "id": "Gt0H9sNM-ok5",
        "outputId": "40634eac-a70c-4636-cd98-fb172b99f9f7"
      },
      "execution_count": null,
      "outputs": [
        {
          "output_type": "execute_result",
          "data": {
            "text/plain": [
              "torch.Size([5, 2, 3])"
            ]
          },
          "metadata": {},
          "execution_count": 94
        }
      ]
    },
    {
      "cell_type": "code",
      "source": [
        "x_original = torch.rand(size=(224,224,3))"
      ],
      "metadata": {
        "id": "Wyx80vyN-tGw"
      },
      "execution_count": null,
      "outputs": []
    },
    {
      "cell_type": "code",
      "source": [
        "x_permutted = torch.permute(x_original,(2,1,0))"
      ],
      "metadata": {
        "id": "lT2M-cFb_HXI"
      },
      "execution_count": null,
      "outputs": []
    },
    {
      "cell_type": "code",
      "source": [
        "x_original.shape, x_permutted.shape"
      ],
      "metadata": {
        "colab": {
          "base_uri": "https://localhost:8080/"
        },
        "id": "0RNWLhDN_WFw",
        "outputId": "7925dc0d-3dd7-4305-c420-a8e38093be39"
      },
      "execution_count": null,
      "outputs": [
        {
          "output_type": "execute_result",
          "data": {
            "text/plain": [
              "(torch.Size([224, 224, 3]), torch.Size([3, 224, 224]))"
            ]
          },
          "metadata": {},
          "execution_count": 98
        }
      ]
    },
    {
      "cell_type": "markdown",
      "source": [
        "## Indexing ( selecting data from tensors)\n",
        "\n",
        "\n",
        "this is same as Numpy"
      ],
      "metadata": {
        "id": "YS6kP617_bHQ"
      }
    },
    {
      "cell_type": "code",
      "source": [
        "x= torch.rand(1,9).reshape(1,3,3)\n",
        "x[0]"
      ],
      "metadata": {
        "colab": {
          "base_uri": "https://localhost:8080/"
        },
        "id": "heP9XDyYAHTg",
        "outputId": "b729c525-71a5-4daa-ce47-69eab36a580c"
      },
      "execution_count": null,
      "outputs": [
        {
          "output_type": "execute_result",
          "data": {
            "text/plain": [
              "tensor([[0.2290, 0.9721, 0.1688],\n",
              "        [0.5011, 0.8008, 0.9928],\n",
              "        [0.9517, 0.1485, 0.0411]])"
            ]
          },
          "metadata": {},
          "execution_count": 104
        }
      ]
    },
    {
      "cell_type": "code",
      "source": [
        "x[0,2,2]"
      ],
      "metadata": {
        "colab": {
          "base_uri": "https://localhost:8080/"
        },
        "id": "jEivTVg9Anu2",
        "outputId": "217308cc-6390-4b2a-c66c-7044ec510174"
      },
      "execution_count": null,
      "outputs": [
        {
          "output_type": "execute_result",
          "data": {
            "text/plain": [
              "tensor(0.0411)"
            ]
          },
          "metadata": {},
          "execution_count": 110
        }
      ]
    },
    {
      "cell_type": "code",
      "source": [
        "x[:,:,1]"
      ],
      "metadata": {
        "colab": {
          "base_uri": "https://localhost:8080/"
        },
        "id": "NjI9r4EfA-n3",
        "outputId": "e522dd89-6542-4753-8aa4-6af535d13d98"
      },
      "execution_count": null,
      "outputs": [
        {
          "output_type": "execute_result",
          "data": {
            "text/plain": [
              "tensor([[0.9721, 0.8008, 0.1485]])"
            ]
          },
          "metadata": {},
          "execution_count": 115
        }
      ]
    },
    {
      "cell_type": "code",
      "source": [
        "x[:,1,1].ndim"
      ],
      "metadata": {
        "colab": {
          "base_uri": "https://localhost:8080/"
        },
        "id": "ZwomH_BxBlSO",
        "outputId": "770a7f60-02c2-4c8f-de9f-5b9521fe3241"
      },
      "execution_count": null,
      "outputs": [
        {
          "output_type": "execute_result",
          "data": {
            "text/plain": [
              "1"
            ]
          },
          "metadata": {},
          "execution_count": 118
        }
      ]
    },
    {
      "cell_type": "code",
      "source": [
        "x[0,1,1].ndim"
      ],
      "metadata": {
        "colab": {
          "base_uri": "https://localhost:8080/"
        },
        "id": "Vs-kR0QZCR0k",
        "outputId": "29de2c6c-937d-4e7a-cf8a-226e87205415"
      },
      "execution_count": null,
      "outputs": [
        {
          "output_type": "execute_result",
          "data": {
            "text/plain": [
              "0"
            ]
          },
          "metadata": {},
          "execution_count": 120
        }
      ]
    },
    {
      "cell_type": "code",
      "source": [
        "x[:,:,2]"
      ],
      "metadata": {
        "colab": {
          "base_uri": "https://localhost:8080/"
        },
        "id": "cxxtDGIwCiOt",
        "outputId": "9b5ed1dc-42b3-410a-9672-6447b5a44761"
      },
      "execution_count": null,
      "outputs": [
        {
          "output_type": "execute_result",
          "data": {
            "text/plain": [
              "tensor([[0.1688, 0.9928, 0.0411]])"
            ]
          },
          "metadata": {},
          "execution_count": 125
        }
      ]
    },
    {
      "cell_type": "markdown",
      "source": [
        "##PyTorch tensors and Numpy\n",
        "\n",
        "Numpy is numerical computing library\n",
        "\n",
        "* Data in Numpy, want in PyTorch tensor -> torch.from_numpy(ndarray)\n",
        "* Pytorch tensor to numpy -> torch.Tensor.numpy()\n",
        "\n",
        "\n",
        "Note : deafult datatype in numpy is float64, where is tensor in torch is float32, so if we are converting it from numpy to tensor, it will have float64 or vice versa"
      ],
      "metadata": {
        "id": "j7VbT1SjC6Rl"
      }
    },
    {
      "cell_type": "code",
      "source": [
        "array = np.arange(1.0,8.0,1)\n",
        "tensor = torch.from_numpy(array)\n",
        "array, tensor"
      ],
      "metadata": {
        "colab": {
          "base_uri": "https://localhost:8080/"
        },
        "id": "LFhAJuieoP28",
        "outputId": "7706ea6d-fa18-4e9e-d462-b32a3ad40ad9"
      },
      "execution_count": null,
      "outputs": [
        {
          "output_type": "execute_result",
          "data": {
            "text/plain": [
              "(array([1., 2., 3., 4., 5., 6., 7.]),\n",
              " tensor([1., 2., 3., 4., 5., 6., 7.], dtype=torch.float64))"
            ]
          },
          "metadata": {},
          "execution_count": 7
        }
      ]
    },
    {
      "cell_type": "code",
      "source": [
        "tensor = torch.from_numpy(array).type(torch.float32)"
      ],
      "metadata": {
        "id": "FbFvpmdPou_G"
      },
      "execution_count": null,
      "outputs": []
    },
    {
      "cell_type": "code",
      "source": [
        "tensor = tensor.numpy()"
      ],
      "metadata": {
        "id": "vHKmkb9Sp2Uy"
      },
      "execution_count": null,
      "outputs": []
    },
    {
      "cell_type": "code",
      "source": [],
      "metadata": {
        "colab": {
          "base_uri": "https://localhost:8080/"
        },
        "id": "vw7NeNUHtS3p",
        "outputId": "efe67b75-768f-41d9-d2a5-6af9f0e690a2"
      },
      "execution_count": null,
      "outputs": [
        {
          "output_type": "execute_result",
          "data": {
            "text/plain": [
              "array([1., 2., 3., 4., 5., 6., 7.], dtype=float32)"
            ]
          },
          "metadata": {},
          "execution_count": 11
        }
      ]
    },
    {
      "cell_type": "markdown",
      "source": [
        "## PyTorch Reproducibility\n",
        "\n",
        "Trying to take the random out of random, in short how a neural networks learns is:\n",
        "\n",
        "`start with random number-> perform tensor operations->update random numbers->again->again->again....`\n",
        "\n",
        "to reduce the randomness in nn and pytorch, there comes the concepts of ***random seed***\n",
        "\n",
        "essentially what random seed does is \"flavour\" the randomness"
      ],
      "metadata": {
        "id": "KeEJy_cDtUH9"
      }
    },
    {
      "cell_type": "code",
      "source": [
        "random_tensor_A = torch.rand(3,4)\n",
        "random_tensor_B = torch.rand(3,4)"
      ],
      "metadata": {
        "id": "_xnNnGdOtx0B"
      },
      "execution_count": null,
      "outputs": []
    },
    {
      "cell_type": "code",
      "source": [],
      "metadata": {
        "id": "Mq7PBICzvBDh"
      },
      "execution_count": null,
      "outputs": []
    },
    {
      "cell_type": "code",
      "source": [
        "random_tensor_A,random_tensor_B,(random_tensor_B==random_tensor_A)"
      ],
      "metadata": {
        "colab": {
          "base_uri": "https://localhost:8080/"
        },
        "id": "CMT4BzRtuxzq",
        "outputId": "717e9753-f5f4-4a9b-ecb3-e92137c2ac10"
      },
      "execution_count": null,
      "outputs": [
        {
          "output_type": "execute_result",
          "data": {
            "text/plain": [
              "(tensor([[0.8445, 0.8708, 0.3790, 0.8386],\n",
              "         [0.9703, 0.3979, 0.9879, 0.2237],\n",
              "         [0.0186, 0.2187, 0.7407, 0.0658]]),\n",
              " tensor([[0.3423, 0.3737, 0.0462, 0.2384],\n",
              "         [0.4945, 0.4014, 0.2875, 0.0135],\n",
              "         [0.7122, 0.4547, 0.9200, 0.0840]]),\n",
              " tensor([[False, False, False, False],\n",
              "         [False, False, False, False],\n",
              "         [False, False, False, False]]))"
            ]
          },
          "metadata": {},
          "execution_count": 19
        }
      ]
    },
    {
      "cell_type": "code",
      "source": [
        "#lets create tensors which are reprodicible\n",
        "\n",
        "RANDOM_SEED = 42\n",
        "torch.manual_seed(RANDOM_SEED)\n",
        "random_tensor_C = torch.rand(3,4)\n",
        "torch.manual_seed(RANDOM_SEED)\n",
        "random_tensor_D = torch.rand(3,4)\n",
        "\n",
        "random_tensor_C,random_tensor_D,(random_tensor_C==random_tensor_D)"
      ],
      "metadata": {
        "colab": {
          "base_uri": "https://localhost:8080/"
        },
        "id": "ip2Mf1ubu_P7",
        "outputId": "dec98cbf-f89b-433c-84d0-ae8c5a760b88"
      },
      "execution_count": null,
      "outputs": [
        {
          "output_type": "execute_result",
          "data": {
            "text/plain": [
              "(tensor([[0.8823, 0.9150, 0.3829, 0.9593],\n",
              "         [0.3904, 0.6009, 0.2566, 0.7936],\n",
              "         [0.9408, 0.1332, 0.9346, 0.5936]]),\n",
              " tensor([[0.8823, 0.9150, 0.3829, 0.9593],\n",
              "         [0.3904, 0.6009, 0.2566, 0.7936],\n",
              "         [0.9408, 0.1332, 0.9346, 0.5936]]),\n",
              " tensor([[True, True, True, True],\n",
              "         [True, True, True, True],\n",
              "         [True, True, True, True]]))"
            ]
          },
          "metadata": {},
          "execution_count": 22
        }
      ]
    },
    {
      "cell_type": "markdown",
      "source": [
        "##Running tensors on GPUs (and making faster computations)\n",
        "Deep learning algorithms require a lot of numerical operations.\n",
        "\n",
        "And by default these operations are often done on a CPU (computer processing unit).\n",
        "\n",
        "However, there's another common piece of hardware called a GPU (graphics processing unit), which is often much faster at performing the specific types of operations neural networks need (matrix multiplications) than CPUs.\n",
        "\n",
        "Your computer might have one.\n",
        "\n",
        "If so, you should look to use it whenever you can to train neural networks because chances are it'll speed up the training time dramatically.\n",
        "\n",
        "There are a few ways to first get access to a GPU and secondly get PyTorch to use the GPU.\n",
        "\n",
        "Note: When I reference \"GPU\" throughout this course, I'm referencing a Nvidia GPU with CUDA enabled (CUDA is a computing platform and API that helps allow GPUs be used for general purpose computing & not just graphics) unless otherwise specified."
      ],
      "metadata": {
        "id": "fmB3pD7bwAOc"
      }
    },
    {
      "cell_type": "markdown",
      "source": [
        "##1. Getting a GPU\n",
        "You may already know what's going on when I say GPU. But if not, there are a few ways to get access to one.\n",
        "\n",
        "Method\tDifficulty to setup\tPros\tCons\tHow to setup\n",
        "Google Colab\tEasy\tFree to use, almost zero setup required, can share work with others as easy as a link\tDoesn't save your data outputs, limited compute, subject to timeouts\tFollow the Google Colab Guide\n",
        "Use your own\tMedium\tRun everything locally on your own machine\tGPUs aren't free, require upfront cost\tFollow the PyTorch installation guidelines\n",
        "Cloud computing (AWS, GCP, Azure)\tMedium-Hard\tSmall upfront cost, access to almost infinite compute\tCan get expensive if running continually, takes some time to setup right\tFollow the PyTorch installation guidelines\n",
        "There are more options for using GPUs but the above three will suffice for now.\n",
        "\n",
        "Personally, I use a combination of Google Colab and my own personal computer for small scale experiments (and creating this course) and go to cloud resources when I need more compute power.\n",
        "\n",
        "Resource: If you're looking to purchase a GPU of your own but not sure what to get, Tim Dettmers has an excellent guide.\n",
        "\n",
        "To check if you've got access to a Nvidia GPU, you can run !nvidia-smi where the ! (also called bang) means \"run this on the command line\"."
      ],
      "metadata": {
        "id": "KlLsS5UIyUw8"
      }
    },
    {
      "cell_type": "code",
      "source": [
        "import torch\n",
        "torch.cuda.is_available()"
      ],
      "metadata": {
        "colab": {
          "base_uri": "https://localhost:8080/"
        },
        "id": "n8vThLGd07UN",
        "outputId": "f4ac9d1b-ebd4-4a44-fe2e-5c5181cef1df"
      },
      "execution_count": null,
      "outputs": [
        {
          "output_type": "execute_result",
          "data": {
            "text/plain": [
              "True"
            ]
          },
          "metadata": {},
          "execution_count": 2
        }
      ]
    },
    {
      "cell_type": "code",
      "source": [
        "#setup devive agnostic code\n",
        "\n",
        "device = \"cuda\" if torch.cuda.is_available() else \"cpu\"\n",
        "device"
      ],
      "metadata": {
        "colab": {
          "base_uri": "https://localhost:8080/",
          "height": 35
        },
        "id": "PUaNnwCA1MTt",
        "outputId": "9ca81b1d-1582-4df7-86fd-e4892a0acaec"
      },
      "execution_count": null,
      "outputs": [
        {
          "output_type": "execute_result",
          "data": {
            "text/plain": [
              "'cuda'"
            ],
            "application/vnd.google.colaboratory.intrinsic+json": {
              "type": "string"
            }
          },
          "metadata": {},
          "execution_count": 3
        }
      ]
    },
    {
      "cell_type": "code",
      "source": [
        "#count the number of devices\n",
        "\n",
        "torch.cuda.device_count()"
      ],
      "metadata": {
        "colab": {
          "base_uri": "https://localhost:8080/"
        },
        "id": "mBN-eDia1mSY",
        "outputId": "ed1fa6ef-83d5-4d2e-c731-13b291598166"
      },
      "execution_count": null,
      "outputs": [
        {
          "output_type": "execute_result",
          "data": {
            "text/plain": [
              "1"
            ]
          },
          "metadata": {},
          "execution_count": 4
        }
      ]
    },
    {
      "cell_type": "markdown",
      "source": [
        "##Device-agnostic code\n",
        "Due to the structure of PyTorch, you may need to explicitly write device-agnostic (CPU or GPU) code; an example may be creating a new tensor as the initial hidden state of a recurrent neural network.\n",
        "\n",
        "The first step is to determine whether the GPU should be used or not. A common pattern is to use Python’s argparse module to read in user arguments, and have a flag that can be used to disable CUDA, in combination with is_available(). In the following, args.device results in a torch.device object that can be used to move tensors to CPU or CUDA.\n",
        "import argparse\n",
        "import torch\n",
        "\n",
        "parser = argparse.ArgumentParser(description='PyTorch Example')\n",
        "parser.add_argument('--disable-cuda', action='store_true',\n",
        "                    help='Disable CUDA')\n",
        "args = parser.parse_args()\n",
        "args.device = None\n",
        "if not args.disable_cuda and torch.cuda.is_available():\n",
        "    args.device = torch.device('cuda')\n",
        "else:\n",
        "    args.device = torch.device('cpu')"
      ],
      "metadata": {
        "id": "c9oG5ELb1vvI"
      }
    },
    {
      "cell_type": "markdown",
      "source": [
        "##Setting up device agnostic code\n",
        "\n",
        "Putting tensor and models on GPU\n",
        "\n",
        "\n",
        "Bydefault they will be on CPU"
      ],
      "metadata": {
        "id": "6vSUN1-k2rxX"
      }
    },
    {
      "cell_type": "code",
      "source": [
        "tensor = torch.tensor([1,2,3])\n",
        "tensor, tensor.device"
      ],
      "metadata": {
        "colab": {
          "base_uri": "https://localhost:8080/"
        },
        "id": "99EbScQX3pGe",
        "outputId": "bf420005-fc7e-42bd-d2ca-2a4a8426da36"
      },
      "execution_count": null,
      "outputs": [
        {
          "output_type": "execute_result",
          "data": {
            "text/plain": [
              "(tensor([1, 2, 3]), device(type='cpu'))"
            ]
          },
          "metadata": {},
          "execution_count": 7
        }
      ]
    },
    {
      "cell_type": "code",
      "source": [
        "tensor_on_gpu = tensor.to(device)\n",
        "tensor, tensor.device,tensor_on_gpu, tensor_on_gpu.device"
      ],
      "metadata": {
        "colab": {
          "base_uri": "https://localhost:8080/"
        },
        "id": "SeS8QsaE4ddD",
        "outputId": "be771d30-7f01-49fd-ba7c-3f5c5a0d6d9c"
      },
      "execution_count": null,
      "outputs": [
        {
          "output_type": "execute_result",
          "data": {
            "text/plain": [
              "(tensor([1, 2, 3]),\n",
              " device(type='cpu'),\n",
              " tensor([1, 2, 3], device='cuda:0'),\n",
              " device(type='cuda', index=0))"
            ]
          },
          "metadata": {},
          "execution_count": 12
        }
      ]
    },
    {
      "cell_type": "code",
      "source": [],
      "metadata": {
        "colab": {
          "base_uri": "https://localhost:8080/"
        },
        "id": "CRJUu5MV5DQw",
        "outputId": "dfc9bd4f-acae-470c-a5b3-7eaec0618b6c"
      },
      "execution_count": null,
      "outputs": [
        {
          "output_type": "execute_result",
          "data": {
            "text/plain": [
              "(tensor([1, 2, 3]), device(type='cpu'))"
            ]
          },
          "metadata": {},
          "execution_count": 11
        }
      ]
    },
    {
      "cell_type": "markdown",
      "source": [
        "Numpy only works on CPU\n",
        "\n",
        "so we have to move tensors back to GPU"
      ],
      "metadata": {
        "id": "kxaJD3Pv5PCF"
      }
    },
    {
      "cell_type": "code",
      "source": [
        "tensor_on_gpu.numpy()"
      ],
      "metadata": {
        "colab": {
          "base_uri": "https://localhost:8080/",
          "height": 159
        },
        "id": "Ceg2LzLL6gz2",
        "outputId": "43b7960f-eb0c-4440-c38a-8939d668b722"
      },
      "execution_count": null,
      "outputs": [
        {
          "output_type": "error",
          "ename": "TypeError",
          "evalue": "can't convert cuda:0 device type tensor to numpy. Use Tensor.cpu() to copy the tensor to host memory first.",
          "traceback": [
            "\u001b[0;31m---------------------------------------------------------------------------\u001b[0m",
            "\u001b[0;31mTypeError\u001b[0m                                 Traceback (most recent call last)",
            "\u001b[0;32m<ipython-input-17-e0c96c7436fd>\u001b[0m in \u001b[0;36m<cell line: 1>\u001b[0;34m()\u001b[0m\n\u001b[0;32m----> 1\u001b[0;31m \u001b[0mtensor_on_gpu\u001b[0m\u001b[0;34m.\u001b[0m\u001b[0mnumpy\u001b[0m\u001b[0;34m(\u001b[0m\u001b[0;34m)\u001b[0m\u001b[0;34m\u001b[0m\u001b[0;34m\u001b[0m\u001b[0m\n\u001b[0m",
            "\u001b[0;31mTypeError\u001b[0m: can't convert cuda:0 device type tensor to numpy. Use Tensor.cpu() to copy the tensor to host memory first."
          ]
        }
      ]
    },
    {
      "cell_type": "code",
      "source": [
        "#resolution\n",
        "\n",
        "tensor_on_gpu.cpu().numpy()"
      ],
      "metadata": {
        "colab": {
          "base_uri": "https://localhost:8080/"
        },
        "id": "-zoApAJb6rH1",
        "outputId": "7d570ce3-8a4f-4029-e4a6-7d0335cac0bd"
      },
      "execution_count": null,
      "outputs": [
        {
          "output_type": "execute_result",
          "data": {
            "text/plain": [
              "array([1, 2, 3])"
            ]
          },
          "metadata": {},
          "execution_count": 16
        }
      ]
    },
    {
      "cell_type": "markdown",
      "source": [
        "##Exercises :"
      ],
      "metadata": {
        "id": "T-2XEHXT64HP"
      }
    }
  ]
}